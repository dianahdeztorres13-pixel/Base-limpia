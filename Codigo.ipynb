{
  "nbformat": 4,
  "nbformat_minor": 0,
  "metadata": {
    "colab": {
      "provenance": []
    },
    "kernelspec": {
      "name": "python3",
      "display_name": "Python 3"
    },
    "language_info": {
      "name": "python"
    }
  },
  "cells": [
    {
      "cell_type": "code",
      "execution_count": 14,
      "metadata": {
        "colab": {
          "base_uri": "https://localhost:8080/",
          "height": 461
        },
        "id": "jOBe__JZ2OuI",
        "outputId": "80023c58-42ae-4ae3-fe6a-ecd20da4073f"
      },
      "outputs": [
        {
          "output_type": "execute_result",
          "data": {
            "text/plain": [
              "       Unnamed: 0  season  round   circuit_id weather_warm  weather_cold  \\\n",
              "0            14.0  1983.0    1.0       Auto%#        False           0.0   \n",
              "1             5.0  1983.0    1.0  jacarepagua        False           0.0   \n",
              "2             3.0  1983.0    NaN  jacarepagua        False           0.0   \n",
              "3             0.0  1983.0    1.0  jacarepagua        False           0.0   \n",
              "4             6.0  1983.0    1.0  jacarepagua        False           0.0   \n",
              "...           ...     ...    ...          ...          ...           ...   \n",
              "16636      4064.0  1993.0    1.0      kyalami         True           0.0   \n",
              "16637      5893.0  1997.0   13.0        monza        False           0.0   \n",
              "16638      9746.0  2008.0    7.0   villeneuve         True           0.0   \n",
              "16639       434.0  1984.0    3.0       zolder        False           0.0   \n",
              "16640      8554.0  2005.0    5.0    catalunya         True           0.0   \n",
              "\n",
              "      weather_dry  weather_wet weather_cloudy        driver  ... grid podium  \\\n",
              "0            True          0.0          False  keke_rosberg  ...    1     15   \n",
              "1            True          0.0          False         prost  ...    2      6   \n",
              "2            True          0.0          False        tambay  ...    3      4   \n",
              "3            True          0.0            NaN        piquet  ...    4      1   \n",
              "4            True          0.0          False       warwick  ...    5      7   \n",
              "...           ...          ...            ...           ...  ...  ...    ...   \n",
              "16636       False          0.0          False      blundell  ...    8    NaN   \n",
              "16637        True          0.0          False        irvine  ...   10      8   \n",
              "16638       False          0.0          False    fisichella  ...   17     14   \n",
              "16639       False          0.0          False        arnoux  ...    2      3   \n",
              "16640       False          0.0          False     coulthard  ...    9      8   \n",
              "\n",
              "      driver_points driver_wins  driver_standings_pos  constructor_points  \\\n",
              "0               0.0         0.0                   0.0                 0.0   \n",
              "1               0.0         0.0                   0.0                 0.0   \n",
              "2               0.0         0.0                   0.0                 0.0   \n",
              "3               0.0         0.0                   0.0                 0.0   \n",
              "4               0.0         0.0                   0.0                 0.0   \n",
              "...             ...         ...                   ...                 ...   \n",
              "16636           0.0         0.0                   0.0                 0.0   \n",
              "16637          18.0         0.0                   6.0                84.0   \n",
              "16638           0.0         0.0                  18.0                 0.0   \n",
              "16639           0.0         0.0                  23.0                 0.0   \n",
              "16640           9.0         0.0                   7.0                 NaN   \n",
              "\n",
              "       constructor_wins  constructor_standings_pos  qualifying_time driver_age  \n",
              "0                   0.0                          0              0.0       34.0  \n",
              "1                   0.0                          0              0.2       28.0  \n",
              "2                   0.0                          0              0.3       33.0  \n",
              "3                   0.0                          0              0.6       30.0  \n",
              "4                   0.0                          0              0.7       28.0  \n",
              "...                 ...                        ...              ...        ...  \n",
              "16636               0.0                        NaN              3.0       26.0  \n",
              "16637               4.0                          1              0.9       31.0  \n",
              "16638               0.0                         10              1.3       35.0  \n",
              "16639               0.0                         11              0.6       35.0  \n",
              "16640               0.0                          6              2.8       34.0  \n",
              "\n",
              "[16641 rows x 22 columns]"
            ],
            "text/html": [
              "\n",
              "  <div id=\"df-19a32cf0-524c-4456-8bc2-64a7b2602a82\" class=\"colab-df-container\">\n",
              "    <div>\n",
              "<style scoped>\n",
              "    .dataframe tbody tr th:only-of-type {\n",
              "        vertical-align: middle;\n",
              "    }\n",
              "\n",
              "    .dataframe tbody tr th {\n",
              "        vertical-align: top;\n",
              "    }\n",
              "\n",
              "    .dataframe thead th {\n",
              "        text-align: right;\n",
              "    }\n",
              "</style>\n",
              "<table border=\"1\" class=\"dataframe\">\n",
              "  <thead>\n",
              "    <tr style=\"text-align: right;\">\n",
              "      <th></th>\n",
              "      <th>Unnamed: 0</th>\n",
              "      <th>season</th>\n",
              "      <th>round</th>\n",
              "      <th>circuit_id</th>\n",
              "      <th>weather_warm</th>\n",
              "      <th>weather_cold</th>\n",
              "      <th>weather_dry</th>\n",
              "      <th>weather_wet</th>\n",
              "      <th>weather_cloudy</th>\n",
              "      <th>driver</th>\n",
              "      <th>...</th>\n",
              "      <th>grid</th>\n",
              "      <th>podium</th>\n",
              "      <th>driver_points</th>\n",
              "      <th>driver_wins</th>\n",
              "      <th>driver_standings_pos</th>\n",
              "      <th>constructor_points</th>\n",
              "      <th>constructor_wins</th>\n",
              "      <th>constructor_standings_pos</th>\n",
              "      <th>qualifying_time</th>\n",
              "      <th>driver_age</th>\n",
              "    </tr>\n",
              "  </thead>\n",
              "  <tbody>\n",
              "    <tr>\n",
              "      <th>0</th>\n",
              "      <td>14.0</td>\n",
              "      <td>1983.0</td>\n",
              "      <td>1.0</td>\n",
              "      <td>Auto%#</td>\n",
              "      <td>False</td>\n",
              "      <td>0.0</td>\n",
              "      <td>True</td>\n",
              "      <td>0.0</td>\n",
              "      <td>False</td>\n",
              "      <td>keke_rosberg</td>\n",
              "      <td>...</td>\n",
              "      <td>1</td>\n",
              "      <td>15</td>\n",
              "      <td>0.0</td>\n",
              "      <td>0.0</td>\n",
              "      <td>0.0</td>\n",
              "      <td>0.0</td>\n",
              "      <td>0.0</td>\n",
              "      <td>0</td>\n",
              "      <td>0.0</td>\n",
              "      <td>34.0</td>\n",
              "    </tr>\n",
              "    <tr>\n",
              "      <th>1</th>\n",
              "      <td>5.0</td>\n",
              "      <td>1983.0</td>\n",
              "      <td>1.0</td>\n",
              "      <td>jacarepagua</td>\n",
              "      <td>False</td>\n",
              "      <td>0.0</td>\n",
              "      <td>True</td>\n",
              "      <td>0.0</td>\n",
              "      <td>False</td>\n",
              "      <td>prost</td>\n",
              "      <td>...</td>\n",
              "      <td>2</td>\n",
              "      <td>6</td>\n",
              "      <td>0.0</td>\n",
              "      <td>0.0</td>\n",
              "      <td>0.0</td>\n",
              "      <td>0.0</td>\n",
              "      <td>0.0</td>\n",
              "      <td>0</td>\n",
              "      <td>0.2</td>\n",
              "      <td>28.0</td>\n",
              "    </tr>\n",
              "    <tr>\n",
              "      <th>2</th>\n",
              "      <td>3.0</td>\n",
              "      <td>1983.0</td>\n",
              "      <td>NaN</td>\n",
              "      <td>jacarepagua</td>\n",
              "      <td>False</td>\n",
              "      <td>0.0</td>\n",
              "      <td>True</td>\n",
              "      <td>0.0</td>\n",
              "      <td>False</td>\n",
              "      <td>tambay</td>\n",
              "      <td>...</td>\n",
              "      <td>3</td>\n",
              "      <td>4</td>\n",
              "      <td>0.0</td>\n",
              "      <td>0.0</td>\n",
              "      <td>0.0</td>\n",
              "      <td>0.0</td>\n",
              "      <td>0.0</td>\n",
              "      <td>0</td>\n",
              "      <td>0.3</td>\n",
              "      <td>33.0</td>\n",
              "    </tr>\n",
              "    <tr>\n",
              "      <th>3</th>\n",
              "      <td>0.0</td>\n",
              "      <td>1983.0</td>\n",
              "      <td>1.0</td>\n",
              "      <td>jacarepagua</td>\n",
              "      <td>False</td>\n",
              "      <td>0.0</td>\n",
              "      <td>True</td>\n",
              "      <td>0.0</td>\n",
              "      <td>NaN</td>\n",
              "      <td>piquet</td>\n",
              "      <td>...</td>\n",
              "      <td>4</td>\n",
              "      <td>1</td>\n",
              "      <td>0.0</td>\n",
              "      <td>0.0</td>\n",
              "      <td>0.0</td>\n",
              "      <td>0.0</td>\n",
              "      <td>0.0</td>\n",
              "      <td>0</td>\n",
              "      <td>0.6</td>\n",
              "      <td>30.0</td>\n",
              "    </tr>\n",
              "    <tr>\n",
              "      <th>4</th>\n",
              "      <td>6.0</td>\n",
              "      <td>1983.0</td>\n",
              "      <td>1.0</td>\n",
              "      <td>jacarepagua</td>\n",
              "      <td>False</td>\n",
              "      <td>0.0</td>\n",
              "      <td>True</td>\n",
              "      <td>0.0</td>\n",
              "      <td>False</td>\n",
              "      <td>warwick</td>\n",
              "      <td>...</td>\n",
              "      <td>5</td>\n",
              "      <td>7</td>\n",
              "      <td>0.0</td>\n",
              "      <td>0.0</td>\n",
              "      <td>0.0</td>\n",
              "      <td>0.0</td>\n",
              "      <td>0.0</td>\n",
              "      <td>0</td>\n",
              "      <td>0.7</td>\n",
              "      <td>28.0</td>\n",
              "    </tr>\n",
              "    <tr>\n",
              "      <th>...</th>\n",
              "      <td>...</td>\n",
              "      <td>...</td>\n",
              "      <td>...</td>\n",
              "      <td>...</td>\n",
              "      <td>...</td>\n",
              "      <td>...</td>\n",
              "      <td>...</td>\n",
              "      <td>...</td>\n",
              "      <td>...</td>\n",
              "      <td>...</td>\n",
              "      <td>...</td>\n",
              "      <td>...</td>\n",
              "      <td>...</td>\n",
              "      <td>...</td>\n",
              "      <td>...</td>\n",
              "      <td>...</td>\n",
              "      <td>...</td>\n",
              "      <td>...</td>\n",
              "      <td>...</td>\n",
              "      <td>...</td>\n",
              "      <td>...</td>\n",
              "    </tr>\n",
              "    <tr>\n",
              "      <th>16636</th>\n",
              "      <td>4064.0</td>\n",
              "      <td>1993.0</td>\n",
              "      <td>1.0</td>\n",
              "      <td>kyalami</td>\n",
              "      <td>True</td>\n",
              "      <td>0.0</td>\n",
              "      <td>False</td>\n",
              "      <td>0.0</td>\n",
              "      <td>False</td>\n",
              "      <td>blundell</td>\n",
              "      <td>...</td>\n",
              "      <td>8</td>\n",
              "      <td>NaN</td>\n",
              "      <td>0.0</td>\n",
              "      <td>0.0</td>\n",
              "      <td>0.0</td>\n",
              "      <td>0.0</td>\n",
              "      <td>0.0</td>\n",
              "      <td>NaN</td>\n",
              "      <td>3.0</td>\n",
              "      <td>26.0</td>\n",
              "    </tr>\n",
              "    <tr>\n",
              "      <th>16637</th>\n",
              "      <td>5893.0</td>\n",
              "      <td>1997.0</td>\n",
              "      <td>13.0</td>\n",
              "      <td>monza</td>\n",
              "      <td>False</td>\n",
              "      <td>0.0</td>\n",
              "      <td>True</td>\n",
              "      <td>0.0</td>\n",
              "      <td>False</td>\n",
              "      <td>irvine</td>\n",
              "      <td>...</td>\n",
              "      <td>10</td>\n",
              "      <td>8</td>\n",
              "      <td>18.0</td>\n",
              "      <td>0.0</td>\n",
              "      <td>6.0</td>\n",
              "      <td>84.0</td>\n",
              "      <td>4.0</td>\n",
              "      <td>1</td>\n",
              "      <td>0.9</td>\n",
              "      <td>31.0</td>\n",
              "    </tr>\n",
              "    <tr>\n",
              "      <th>16638</th>\n",
              "      <td>9746.0</td>\n",
              "      <td>2008.0</td>\n",
              "      <td>7.0</td>\n",
              "      <td>villeneuve</td>\n",
              "      <td>True</td>\n",
              "      <td>0.0</td>\n",
              "      <td>False</td>\n",
              "      <td>0.0</td>\n",
              "      <td>False</td>\n",
              "      <td>fisichella</td>\n",
              "      <td>...</td>\n",
              "      <td>17</td>\n",
              "      <td>14</td>\n",
              "      <td>0.0</td>\n",
              "      <td>0.0</td>\n",
              "      <td>18.0</td>\n",
              "      <td>0.0</td>\n",
              "      <td>0.0</td>\n",
              "      <td>10</td>\n",
              "      <td>1.3</td>\n",
              "      <td>35.0</td>\n",
              "    </tr>\n",
              "    <tr>\n",
              "      <th>16639</th>\n",
              "      <td>434.0</td>\n",
              "      <td>1984.0</td>\n",
              "      <td>3.0</td>\n",
              "      <td>zolder</td>\n",
              "      <td>False</td>\n",
              "      <td>0.0</td>\n",
              "      <td>False</td>\n",
              "      <td>0.0</td>\n",
              "      <td>False</td>\n",
              "      <td>arnoux</td>\n",
              "      <td>...</td>\n",
              "      <td>2</td>\n",
              "      <td>3</td>\n",
              "      <td>0.0</td>\n",
              "      <td>0.0</td>\n",
              "      <td>23.0</td>\n",
              "      <td>0.0</td>\n",
              "      <td>0.0</td>\n",
              "      <td>11</td>\n",
              "      <td>0.6</td>\n",
              "      <td>35.0</td>\n",
              "    </tr>\n",
              "    <tr>\n",
              "      <th>16640</th>\n",
              "      <td>8554.0</td>\n",
              "      <td>2005.0</td>\n",
              "      <td>5.0</td>\n",
              "      <td>catalunya</td>\n",
              "      <td>True</td>\n",
              "      <td>0.0</td>\n",
              "      <td>False</td>\n",
              "      <td>0.0</td>\n",
              "      <td>False</td>\n",
              "      <td>coulthard</td>\n",
              "      <td>...</td>\n",
              "      <td>9</td>\n",
              "      <td>8</td>\n",
              "      <td>9.0</td>\n",
              "      <td>0.0</td>\n",
              "      <td>7.0</td>\n",
              "      <td>NaN</td>\n",
              "      <td>0.0</td>\n",
              "      <td>6</td>\n",
              "      <td>2.8</td>\n",
              "      <td>34.0</td>\n",
              "    </tr>\n",
              "  </tbody>\n",
              "</table>\n",
              "<p>16641 rows × 22 columns</p>\n",
              "</div>\n",
              "    <div class=\"colab-df-buttons\">\n",
              "\n",
              "  <div class=\"colab-df-container\">\n",
              "    <button class=\"colab-df-convert\" onclick=\"convertToInteractive('df-19a32cf0-524c-4456-8bc2-64a7b2602a82')\"\n",
              "            title=\"Convert this dataframe to an interactive table.\"\n",
              "            style=\"display:none;\">\n",
              "\n",
              "  <svg xmlns=\"http://www.w3.org/2000/svg\" height=\"24px\" viewBox=\"0 -960 960 960\">\n",
              "    <path d=\"M120-120v-720h720v720H120Zm60-500h600v-160H180v160Zm220 220h160v-160H400v160Zm0 220h160v-160H400v160ZM180-400h160v-160H180v160Zm440 0h160v-160H620v160ZM180-180h160v-160H180v160Zm440 0h160v-160H620v160Z\"/>\n",
              "  </svg>\n",
              "    </button>\n",
              "\n",
              "  <style>\n",
              "    .colab-df-container {\n",
              "      display:flex;\n",
              "      gap: 12px;\n",
              "    }\n",
              "\n",
              "    .colab-df-convert {\n",
              "      background-color: #E8F0FE;\n",
              "      border: none;\n",
              "      border-radius: 50%;\n",
              "      cursor: pointer;\n",
              "      display: none;\n",
              "      fill: #1967D2;\n",
              "      height: 32px;\n",
              "      padding: 0 0 0 0;\n",
              "      width: 32px;\n",
              "    }\n",
              "\n",
              "    .colab-df-convert:hover {\n",
              "      background-color: #E2EBFA;\n",
              "      box-shadow: 0px 1px 2px rgba(60, 64, 67, 0.3), 0px 1px 3px 1px rgba(60, 64, 67, 0.15);\n",
              "      fill: #174EA6;\n",
              "    }\n",
              "\n",
              "    .colab-df-buttons div {\n",
              "      margin-bottom: 4px;\n",
              "    }\n",
              "\n",
              "    [theme=dark] .colab-df-convert {\n",
              "      background-color: #3B4455;\n",
              "      fill: #D2E3FC;\n",
              "    }\n",
              "\n",
              "    [theme=dark] .colab-df-convert:hover {\n",
              "      background-color: #434B5C;\n",
              "      box-shadow: 0px 1px 3px 1px rgba(0, 0, 0, 0.15);\n",
              "      filter: drop-shadow(0px 1px 2px rgba(0, 0, 0, 0.3));\n",
              "      fill: #FFFFFF;\n",
              "    }\n",
              "  </style>\n",
              "\n",
              "    <script>\n",
              "      const buttonEl =\n",
              "        document.querySelector('#df-19a32cf0-524c-4456-8bc2-64a7b2602a82 button.colab-df-convert');\n",
              "      buttonEl.style.display =\n",
              "        google.colab.kernel.accessAllowed ? 'block' : 'none';\n",
              "\n",
              "      async function convertToInteractive(key) {\n",
              "        const element = document.querySelector('#df-19a32cf0-524c-4456-8bc2-64a7b2602a82');\n",
              "        const dataTable =\n",
              "          await google.colab.kernel.invokeFunction('convertToInteractive',\n",
              "                                                    [key], {});\n",
              "        if (!dataTable) return;\n",
              "\n",
              "        const docLinkHtml = 'Like what you see? Visit the ' +\n",
              "          '<a target=\"_blank\" href=https://colab.research.google.com/notebooks/data_table.ipynb>data table notebook</a>'\n",
              "          + ' to learn more about interactive tables.';\n",
              "        element.innerHTML = '';\n",
              "        dataTable['output_type'] = 'display_data';\n",
              "        await google.colab.output.renderOutput(dataTable, element);\n",
              "        const docLink = document.createElement('div');\n",
              "        docLink.innerHTML = docLinkHtml;\n",
              "        element.appendChild(docLink);\n",
              "      }\n",
              "    </script>\n",
              "  </div>\n",
              "\n",
              "\n",
              "    <div id=\"df-f48adb52-5ff0-4a14-8012-7ebc1dce2795\">\n",
              "      <button class=\"colab-df-quickchart\" onclick=\"quickchart('df-f48adb52-5ff0-4a14-8012-7ebc1dce2795')\"\n",
              "                title=\"Suggest charts\"\n",
              "                style=\"display:none;\">\n",
              "\n",
              "<svg xmlns=\"http://www.w3.org/2000/svg\" height=\"24px\"viewBox=\"0 0 24 24\"\n",
              "     width=\"24px\">\n",
              "    <g>\n",
              "        <path d=\"M19 3H5c-1.1 0-2 .9-2 2v14c0 1.1.9 2 2 2h14c1.1 0 2-.9 2-2V5c0-1.1-.9-2-2-2zM9 17H7v-7h2v7zm4 0h-2V7h2v10zm4 0h-2v-4h2v4z\"/>\n",
              "    </g>\n",
              "</svg>\n",
              "      </button>\n",
              "\n",
              "<style>\n",
              "  .colab-df-quickchart {\n",
              "      --bg-color: #E8F0FE;\n",
              "      --fill-color: #1967D2;\n",
              "      --hover-bg-color: #E2EBFA;\n",
              "      --hover-fill-color: #174EA6;\n",
              "      --disabled-fill-color: #AAA;\n",
              "      --disabled-bg-color: #DDD;\n",
              "  }\n",
              "\n",
              "  [theme=dark] .colab-df-quickchart {\n",
              "      --bg-color: #3B4455;\n",
              "      --fill-color: #D2E3FC;\n",
              "      --hover-bg-color: #434B5C;\n",
              "      --hover-fill-color: #FFFFFF;\n",
              "      --disabled-bg-color: #3B4455;\n",
              "      --disabled-fill-color: #666;\n",
              "  }\n",
              "\n",
              "  .colab-df-quickchart {\n",
              "    background-color: var(--bg-color);\n",
              "    border: none;\n",
              "    border-radius: 50%;\n",
              "    cursor: pointer;\n",
              "    display: none;\n",
              "    fill: var(--fill-color);\n",
              "    height: 32px;\n",
              "    padding: 0;\n",
              "    width: 32px;\n",
              "  }\n",
              "\n",
              "  .colab-df-quickchart:hover {\n",
              "    background-color: var(--hover-bg-color);\n",
              "    box-shadow: 0 1px 2px rgba(60, 64, 67, 0.3), 0 1px 3px 1px rgba(60, 64, 67, 0.15);\n",
              "    fill: var(--button-hover-fill-color);\n",
              "  }\n",
              "\n",
              "  .colab-df-quickchart-complete:disabled,\n",
              "  .colab-df-quickchart-complete:disabled:hover {\n",
              "    background-color: var(--disabled-bg-color);\n",
              "    fill: var(--disabled-fill-color);\n",
              "    box-shadow: none;\n",
              "  }\n",
              "\n",
              "  .colab-df-spinner {\n",
              "    border: 2px solid var(--fill-color);\n",
              "    border-color: transparent;\n",
              "    border-bottom-color: var(--fill-color);\n",
              "    animation:\n",
              "      spin 1s steps(1) infinite;\n",
              "  }\n",
              "\n",
              "  @keyframes spin {\n",
              "    0% {\n",
              "      border-color: transparent;\n",
              "      border-bottom-color: var(--fill-color);\n",
              "      border-left-color: var(--fill-color);\n",
              "    }\n",
              "    20% {\n",
              "      border-color: transparent;\n",
              "      border-left-color: var(--fill-color);\n",
              "      border-top-color: var(--fill-color);\n",
              "    }\n",
              "    30% {\n",
              "      border-color: transparent;\n",
              "      border-left-color: var(--fill-color);\n",
              "      border-top-color: var(--fill-color);\n",
              "      border-right-color: var(--fill-color);\n",
              "    }\n",
              "    40% {\n",
              "      border-color: transparent;\n",
              "      border-right-color: var(--fill-color);\n",
              "      border-top-color: var(--fill-color);\n",
              "    }\n",
              "    60% {\n",
              "      border-color: transparent;\n",
              "      border-right-color: var(--fill-color);\n",
              "    }\n",
              "    80% {\n",
              "      border-color: transparent;\n",
              "      border-right-color: var(--fill-color);\n",
              "      border-bottom-color: var(--fill-color);\n",
              "    }\n",
              "    90% {\n",
              "      border-color: transparent;\n",
              "      border-bottom-color: var(--fill-color);\n",
              "    }\n",
              "  }\n",
              "</style>\n",
              "\n",
              "      <script>\n",
              "        async function quickchart(key) {\n",
              "          const quickchartButtonEl =\n",
              "            document.querySelector('#' + key + ' button');\n",
              "          quickchartButtonEl.disabled = true;  // To prevent multiple clicks.\n",
              "          quickchartButtonEl.classList.add('colab-df-spinner');\n",
              "          try {\n",
              "            const charts = await google.colab.kernel.invokeFunction(\n",
              "                'suggestCharts', [key], {});\n",
              "          } catch (error) {\n",
              "            console.error('Error during call to suggestCharts:', error);\n",
              "          }\n",
              "          quickchartButtonEl.classList.remove('colab-df-spinner');\n",
              "          quickchartButtonEl.classList.add('colab-df-quickchart-complete');\n",
              "        }\n",
              "        (() => {\n",
              "          let quickchartButtonEl =\n",
              "            document.querySelector('#df-f48adb52-5ff0-4a14-8012-7ebc1dce2795 button');\n",
              "          quickchartButtonEl.style.display =\n",
              "            google.colab.kernel.accessAllowed ? 'block' : 'none';\n",
              "        })();\n",
              "      </script>\n",
              "    </div>\n",
              "\n",
              "  <div id=\"id_912c713f-b2cf-44c0-887d-dca531c50660\">\n",
              "    <style>\n",
              "      .colab-df-generate {\n",
              "        background-color: #E8F0FE;\n",
              "        border: none;\n",
              "        border-radius: 50%;\n",
              "        cursor: pointer;\n",
              "        display: none;\n",
              "        fill: #1967D2;\n",
              "        height: 32px;\n",
              "        padding: 0 0 0 0;\n",
              "        width: 32px;\n",
              "      }\n",
              "\n",
              "      .colab-df-generate:hover {\n",
              "        background-color: #E2EBFA;\n",
              "        box-shadow: 0px 1px 2px rgba(60, 64, 67, 0.3), 0px 1px 3px 1px rgba(60, 64, 67, 0.15);\n",
              "        fill: #174EA6;\n",
              "      }\n",
              "\n",
              "      [theme=dark] .colab-df-generate {\n",
              "        background-color: #3B4455;\n",
              "        fill: #D2E3FC;\n",
              "      }\n",
              "\n",
              "      [theme=dark] .colab-df-generate:hover {\n",
              "        background-color: #434B5C;\n",
              "        box-shadow: 0px 1px 3px 1px rgba(0, 0, 0, 0.15);\n",
              "        filter: drop-shadow(0px 1px 2px rgba(0, 0, 0, 0.3));\n",
              "        fill: #FFFFFF;\n",
              "      }\n",
              "    </style>\n",
              "    <button class=\"colab-df-generate\" onclick=\"generateWithVariable('df')\"\n",
              "            title=\"Generate code using this dataframe.\"\n",
              "            style=\"display:none;\">\n",
              "\n",
              "  <svg xmlns=\"http://www.w3.org/2000/svg\" height=\"24px\"viewBox=\"0 0 24 24\"\n",
              "       width=\"24px\">\n",
              "    <path d=\"M7,19H8.4L18.45,9,17,7.55,7,17.6ZM5,21V16.75L18.45,3.32a2,2,0,0,1,2.83,0l1.4,1.43a1.91,1.91,0,0,1,.58,1.4,1.91,1.91,0,0,1-.58,1.4L9.25,21ZM18.45,9,17,7.55Zm-12,3A5.31,5.31,0,0,0,4.9,8.1,5.31,5.31,0,0,0,1,6.5,5.31,5.31,0,0,0,4.9,4.9,5.31,5.31,0,0,0,6.5,1,5.31,5.31,0,0,0,8.1,4.9,5.31,5.31,0,0,0,12,6.5,5.46,5.46,0,0,0,6.5,12Z\"/>\n",
              "  </svg>\n",
              "    </button>\n",
              "    <script>\n",
              "      (() => {\n",
              "      const buttonEl =\n",
              "        document.querySelector('#id_912c713f-b2cf-44c0-887d-dca531c50660 button.colab-df-generate');\n",
              "      buttonEl.style.display =\n",
              "        google.colab.kernel.accessAllowed ? 'block' : 'none';\n",
              "\n",
              "      buttonEl.onclick = () => {\n",
              "        google.colab.notebook.generateWithVariable('df');\n",
              "      }\n",
              "      })();\n",
              "    </script>\n",
              "  </div>\n",
              "\n",
              "    </div>\n",
              "  </div>\n"
            ],
            "application/vnd.google.colaboratory.intrinsic+json": {
              "type": "dataframe",
              "variable_name": "df"
            }
          },
          "metadata": {},
          "execution_count": 14
        }
      ],
      "source": [
        "#Importar librerias y cargar base de datos sucia\n",
        "import pandas as pd\n",
        "df = pd.read_csv(\"https://raw.githubusercontent.com/dianahdeztorres13-pixel/fh/main/j.csv\")\n",
        "df"
      ]
    },
    {
      "cell_type": "code",
      "source": [
        "#Creamos una copia para trabajar en ella\n",
        "df2 = df"
      ],
      "metadata": {
        "id": "SITg7qIV2Twr"
      },
      "execution_count": 15,
      "outputs": []
    },
    {
      "cell_type": "code",
      "source": [
        "#Se verifica el tipo de dato registrado en cada columna para realizar el cambio de tipo en caso de ser necesario\n",
        "df2.info"
      ],
      "metadata": {
        "colab": {
          "base_uri": "https://localhost:8080/",
          "height": 204
        },
        "id": "rZMrMML12YqS",
        "outputId": "96773d34-9737-45a0-e187-fab53f733b5d"
      },
      "execution_count": 157,
      "outputs": [
        {
          "output_type": "execute_result",
          "data": {
            "text/plain": [
              "<bound method DataFrame.info of        Unnamed: 0  Sesion  Recorrido     Circuito Clima Calido  Clima frio  \\\n",
              "1             5.0  1983.0        1.0  jacarepagua        False         0.0   \n",
              "4             6.0  1983.0        1.0  jacarepagua        False         0.0   \n",
              "5             8.0  1983.0        1.0  jacarepagua        False         0.0   \n",
              "6            22.0  1983.0        1.0  jacarepagua        False         0.0   \n",
              "7            17.0  1983.0        1.0  jacarepagua        False         0.0   \n",
              "...           ...     ...        ...          ...          ...         ...   \n",
              "16633       299.0  1983.0       12.0    zandvoort        False         0.0   \n",
              "16635     10066.0  2009.0        5.0    catalunya         True         0.0   \n",
              "16637      5893.0  1997.0       13.0        monza        False         0.0   \n",
              "16638      9746.0  2008.0        7.0   villeneuve         True         0.0   \n",
              "16639       434.0  1984.0        3.0       zolder        False         0.0   \n",
              "\n",
              "      Clima seco  Clima lluvioso Clima nublado      Piloto  ... Grilla Podio  \\\n",
              "1           True             0.0         False       prost  ...      2     6   \n",
              "4           True             0.0         False     warwick  ...      5     7   \n",
              "5           True             0.0         False      arnoux  ...      6     9   \n",
              "6           True             0.0         False     patrese  ...      7    23   \n",
              "7           True             0.0         False     cheever  ...      8    18   \n",
              "...          ...             ...           ...         ...  ...    ...   ...   \n",
              "16633      False             0.0          True     laffite  ...     17    20   \n",
              "16635      False             0.0         False       sutil  ...     19    20   \n",
              "16637       True             0.0         False      irvine  ...     10     8   \n",
              "16638      False             0.0         False  fisichella  ...     17    14   \n",
              "16639      False             0.0         False      arnoux  ...      2     3   \n",
              "\n",
              "      Puntos_piloto Victorias_piloto  Posicion_piloto  Puntos_constructores  \\\n",
              "1               0.0              0.0              0.0                   0.0   \n",
              "4               0.0              0.0              0.0                   0.0   \n",
              "5               0.0              0.0              0.0                   0.0   \n",
              "6               0.0              0.0              0.0                   0.0   \n",
              "7               0.0              0.0              0.0                   0.0   \n",
              "...             ...              ...              ...                   ...   \n",
              "16633          11.0              0.0              9.0                  36.0   \n",
              "16635           0.0              0.0             16.0                   0.0   \n",
              "16637          18.0              0.0              6.0                  84.0   \n",
              "16638           0.0              0.0             18.0                   0.0   \n",
              "16639           0.0              0.0             23.0                   0.0   \n",
              "\n",
              "       Victorias_constructores  Constructores_posicion  tiempo_clasificación  \\\n",
              "1                          0.0                       0                   0.2   \n",
              "4                          0.0                       0                   0.7   \n",
              "5                          0.0                       0                   1.0   \n",
              "6                          0.0                       0                   1.5   \n",
              "7                          0.0                       0                   1.6   \n",
              "...                        ...                     ...                   ...   \n",
              "16633                      1.0                       4                   4.4   \n",
              "16635                      0.0                      10                   1.2   \n",
              "16637                      4.0                       1                   0.9   \n",
              "16638                      0.0                      10                   1.3   \n",
              "16639                      0.0                      11                   0.6   \n",
              "\n",
              "      Edad_piloto  \n",
              "1            28.0  \n",
              "4            28.0  \n",
              "5            34.0  \n",
              "6            28.0  \n",
              "7            25.0  \n",
              "...           ...  \n",
              "16633        39.0  \n",
              "16635        26.0  \n",
              "16637        31.0  \n",
              "16638        35.0  \n",
              "16639        35.0  \n",
              "\n",
              "[7517 rows x 22 columns]>"
            ],
            "text/html": [
              "<div style=\"max-width:800px; border: 1px solid var(--colab-border-color);\"><style>\n",
              "      pre.function-repr-contents {\n",
              "        overflow-x: auto;\n",
              "        padding: 8px 12px;\n",
              "        max-height: 500px;\n",
              "      }\n",
              "\n",
              "      pre.function-repr-contents.function-repr-contents-collapsed {\n",
              "        cursor: pointer;\n",
              "        max-height: 100px;\n",
              "      }\n",
              "    </style>\n",
              "    <pre style=\"white-space: initial; background:\n",
              "         var(--colab-secondary-surface-color); padding: 8px 12px;\n",
              "         border-bottom: 1px solid var(--colab-border-color);\"><b>pandas.core.frame.DataFrame.info</b><br/>def info(verbose: bool | None=None, buf: WriteBuffer[str] | None=None, max_cols: int | None=None, memory_usage: bool | str | None=None, show_counts: bool | None=None) -&gt; None</pre><pre class=\"function-repr-contents function-repr-contents-collapsed\" style=\"\"><a class=\"filepath\" style=\"display:none\" href=\"#\">/usr/local/lib/python3.12/dist-packages/pandas/core/frame.py</a>Print a concise summary of a DataFrame.\n",
              "\n",
              "This method prints information about a DataFrame including\n",
              "the index dtype and columns, non-null values and memory usage.\n",
              "\n",
              "Parameters\n",
              "----------\n",
              "verbose : bool, optional\n",
              "    Whether to print the full summary. By default, the setting in\n",
              "    ``pandas.options.display.max_info_columns`` is followed.\n",
              "buf : writable buffer, defaults to sys.stdout\n",
              "    Where to send the output. By default, the output is printed to\n",
              "    sys.stdout. Pass a writable buffer if you need to further process\n",
              "    the output.\n",
              "max_cols : int, optional\n",
              "    When to switch from the verbose to the truncated output. If the\n",
              "    DataFrame has more than `max_cols` columns, the truncated output\n",
              "    is used. By default, the setting in\n",
              "    ``pandas.options.display.max_info_columns`` is used.\n",
              "memory_usage : bool, str, optional\n",
              "    Specifies whether total memory usage of the DataFrame\n",
              "    elements (including the index) should be displayed. By default,\n",
              "    this follows the ``pandas.options.display.memory_usage`` setting.\n",
              "\n",
              "    True always show memory usage. False never shows memory usage.\n",
              "    A value of &#x27;deep&#x27; is equivalent to &quot;True with deep introspection&quot;.\n",
              "    Memory usage is shown in human-readable units (base-2\n",
              "    representation). Without deep introspection a memory estimation is\n",
              "    made based in column dtype and number of rows assuming values\n",
              "    consume the same memory amount for corresponding dtypes. With deep\n",
              "    memory introspection, a real memory usage calculation is performed\n",
              "    at the cost of computational resources. See the\n",
              "    :ref:`Frequently Asked Questions &lt;df-memory-usage&gt;` for more\n",
              "    details.\n",
              "show_counts : bool, optional\n",
              "    Whether to show the non-null counts. By default, this is shown\n",
              "    only if the DataFrame is smaller than\n",
              "    ``pandas.options.display.max_info_rows`` and\n",
              "    ``pandas.options.display.max_info_columns``. A value of True always\n",
              "    shows the counts, and False never shows the counts.\n",
              "\n",
              "Returns\n",
              "-------\n",
              "None\n",
              "    This method prints a summary of a DataFrame and returns None.\n",
              "\n",
              "See Also\n",
              "--------\n",
              "DataFrame.describe: Generate descriptive statistics of DataFrame\n",
              "    columns.\n",
              "DataFrame.memory_usage: Memory usage of DataFrame columns.\n",
              "\n",
              "Examples\n",
              "--------\n",
              "&gt;&gt;&gt; int_values = [1, 2, 3, 4, 5]\n",
              "&gt;&gt;&gt; text_values = [&#x27;alpha&#x27;, &#x27;beta&#x27;, &#x27;gamma&#x27;, &#x27;delta&#x27;, &#x27;epsilon&#x27;]\n",
              "&gt;&gt;&gt; float_values = [0.0, 0.25, 0.5, 0.75, 1.0]\n",
              "&gt;&gt;&gt; df = pd.DataFrame({&quot;int_col&quot;: int_values, &quot;text_col&quot;: text_values,\n",
              "...                   &quot;float_col&quot;: float_values})\n",
              "&gt;&gt;&gt; df\n",
              "    int_col text_col  float_col\n",
              "0        1    alpha       0.00\n",
              "1        2     beta       0.25\n",
              "2        3    gamma       0.50\n",
              "3        4    delta       0.75\n",
              "4        5  epsilon       1.00\n",
              "\n",
              "Prints information of all columns:\n",
              "\n",
              "&gt;&gt;&gt; df.info(verbose=True)\n",
              "&lt;class &#x27;pandas.core.frame.DataFrame&#x27;&gt;\n",
              "RangeIndex: 5 entries, 0 to 4\n",
              "Data columns (total 3 columns):\n",
              " #   Column     Non-Null Count  Dtype\n",
              "---  ------     --------------  -----\n",
              " 0   int_col    5 non-null      int64\n",
              " 1   text_col   5 non-null      object\n",
              " 2   float_col  5 non-null      float64\n",
              "dtypes: float64(1), int64(1), object(1)\n",
              "memory usage: 248.0+ bytes\n",
              "\n",
              "Prints a summary of columns count and its dtypes but not per column\n",
              "information:\n",
              "\n",
              "&gt;&gt;&gt; df.info(verbose=False)\n",
              "&lt;class &#x27;pandas.core.frame.DataFrame&#x27;&gt;\n",
              "RangeIndex: 5 entries, 0 to 4\n",
              "Columns: 3 entries, int_col to float_col\n",
              "dtypes: float64(1), int64(1), object(1)\n",
              "memory usage: 248.0+ bytes\n",
              "\n",
              "Pipe output of DataFrame.info to buffer instead of sys.stdout, get\n",
              "buffer content and writes to a text file:\n",
              "\n",
              "&gt;&gt;&gt; import io\n",
              "&gt;&gt;&gt; buffer = io.StringIO()\n",
              "&gt;&gt;&gt; df.info(buf=buffer)\n",
              "&gt;&gt;&gt; s = buffer.getvalue()\n",
              "&gt;&gt;&gt; with open(&quot;df_info.txt&quot;, &quot;w&quot;,\n",
              "...           encoding=&quot;utf-8&quot;) as f:  # doctest: +SKIP\n",
              "...     f.write(s)\n",
              "260\n",
              "\n",
              "The `memory_usage` parameter allows deep introspection mode, specially\n",
              "useful for big DataFrames and fine-tune memory optimization:\n",
              "\n",
              "&gt;&gt;&gt; random_strings_array = np.random.choice([&#x27;a&#x27;, &#x27;b&#x27;, &#x27;c&#x27;], 10 ** 6)\n",
              "&gt;&gt;&gt; df = pd.DataFrame({\n",
              "...     &#x27;column_1&#x27;: np.random.choice([&#x27;a&#x27;, &#x27;b&#x27;, &#x27;c&#x27;], 10 ** 6),\n",
              "...     &#x27;column_2&#x27;: np.random.choice([&#x27;a&#x27;, &#x27;b&#x27;, &#x27;c&#x27;], 10 ** 6),\n",
              "...     &#x27;column_3&#x27;: np.random.choice([&#x27;a&#x27;, &#x27;b&#x27;, &#x27;c&#x27;], 10 ** 6)\n",
              "... })\n",
              "&gt;&gt;&gt; df.info()\n",
              "&lt;class &#x27;pandas.core.frame.DataFrame&#x27;&gt;\n",
              "RangeIndex: 1000000 entries, 0 to 999999\n",
              "Data columns (total 3 columns):\n",
              " #   Column    Non-Null Count    Dtype\n",
              "---  ------    --------------    -----\n",
              " 0   column_1  1000000 non-null  object\n",
              " 1   column_2  1000000 non-null  object\n",
              " 2   column_3  1000000 non-null  object\n",
              "dtypes: object(3)\n",
              "memory usage: 22.9+ MB\n",
              "\n",
              "&gt;&gt;&gt; df.info(memory_usage=&#x27;deep&#x27;)\n",
              "&lt;class &#x27;pandas.core.frame.DataFrame&#x27;&gt;\n",
              "RangeIndex: 1000000 entries, 0 to 999999\n",
              "Data columns (total 3 columns):\n",
              " #   Column    Non-Null Count    Dtype\n",
              "---  ------    --------------    -----\n",
              " 0   column_1  1000000 non-null  object\n",
              " 1   column_2  1000000 non-null  object\n",
              " 2   column_3  1000000 non-null  object\n",
              "dtypes: object(3)\n",
              "memory usage: 165.9 MB</pre>\n",
              "      <script>\n",
              "      if (google.colab.kernel.accessAllowed && google.colab.files && google.colab.files.view) {\n",
              "        for (const element of document.querySelectorAll('.filepath')) {\n",
              "          element.style.display = 'block'\n",
              "          element.onclick = (event) => {\n",
              "            event.preventDefault();\n",
              "            event.stopPropagation();\n",
              "            google.colab.files.view(element.textContent, 3646);\n",
              "          };\n",
              "        }\n",
              "      }\n",
              "      for (const element of document.querySelectorAll('.function-repr-contents')) {\n",
              "        element.onclick = (event) => {\n",
              "          event.preventDefault();\n",
              "          event.stopPropagation();\n",
              "          element.classList.toggle('function-repr-contents-collapsed');\n",
              "        };\n",
              "      }\n",
              "      </script>\n",
              "      </div>"
            ]
          },
          "metadata": {},
          "execution_count": 157
        }
      ]
    },
    {
      "cell_type": "code",
      "source": [
        "#Se verifican las columnas con las que se cuenta\n",
        "df.columns"
      ],
      "metadata": {
        "colab": {
          "base_uri": "https://localhost:8080/"
        },
        "id": "hLILGvt42kuh",
        "outputId": "67ff6796-8ceb-4467-a10e-431a2854fbef"
      },
      "execution_count": 17,
      "outputs": [
        {
          "output_type": "execute_result",
          "data": {
            "text/plain": [
              "Index(['Unnamed: 0', 'season', 'round', 'circuit_id', 'weather_warm',\n",
              "       'weather_cold', 'weather_dry', 'weather_wet', 'weather_cloudy',\n",
              "       'driver', 'nationality', 'constructor', 'grid', 'podium',\n",
              "       'driver_points', 'driver_wins', 'driver_standings_pos',\n",
              "       'constructor_points', 'constructor_wins', 'constructor_standings_pos',\n",
              "       'qualifying_time', 'driver_age'],\n",
              "      dtype='object')"
            ]
          },
          "metadata": {},
          "execution_count": 17
        }
      ]
    },
    {
      "cell_type": "code",
      "source": [
        "#Conteo de datos nulos por columna\n",
        "df.isnull().sum()"
      ],
      "metadata": {
        "colab": {
          "base_uri": "https://localhost:8080/",
          "height": 773
        },
        "id": "06yE_DdDO8rc",
        "outputId": "0608c380-b284-481b-a946-8a7b7d55b303"
      },
      "execution_count": 158,
      "outputs": [
        {
          "output_type": "execute_result",
          "data": {
            "text/plain": [
              "Unnamed: 0                   499\n",
              "season                       499\n",
              "round                        499\n",
              "circuit_id                   499\n",
              "weather_warm                 499\n",
              "weather_cold                 824\n",
              "weather_dry                  499\n",
              "weather_wet                  822\n",
              "weather_cloudy               499\n",
              "driver                       499\n",
              "nationality                  499\n",
              "constructor                  499\n",
              "grid                         499\n",
              "podium                       499\n",
              "driver_points                499\n",
              "driver_wins                  499\n",
              "driver_standings_pos         823\n",
              "constructor_points           499\n",
              "constructor_wins             499\n",
              "constructor_standings_pos    499\n",
              "qualifying_time              499\n",
              "driver_age                   499\n",
              "dtype: int64"
            ],
            "text/html": [
              "<div>\n",
              "<style scoped>\n",
              "    .dataframe tbody tr th:only-of-type {\n",
              "        vertical-align: middle;\n",
              "    }\n",
              "\n",
              "    .dataframe tbody tr th {\n",
              "        vertical-align: top;\n",
              "    }\n",
              "\n",
              "    .dataframe thead th {\n",
              "        text-align: right;\n",
              "    }\n",
              "</style>\n",
              "<table border=\"1\" class=\"dataframe\">\n",
              "  <thead>\n",
              "    <tr style=\"text-align: right;\">\n",
              "      <th></th>\n",
              "      <th>0</th>\n",
              "    </tr>\n",
              "  </thead>\n",
              "  <tbody>\n",
              "    <tr>\n",
              "      <th>Unnamed: 0</th>\n",
              "      <td>499</td>\n",
              "    </tr>\n",
              "    <tr>\n",
              "      <th>season</th>\n",
              "      <td>499</td>\n",
              "    </tr>\n",
              "    <tr>\n",
              "      <th>round</th>\n",
              "      <td>499</td>\n",
              "    </tr>\n",
              "    <tr>\n",
              "      <th>circuit_id</th>\n",
              "      <td>499</td>\n",
              "    </tr>\n",
              "    <tr>\n",
              "      <th>weather_warm</th>\n",
              "      <td>499</td>\n",
              "    </tr>\n",
              "    <tr>\n",
              "      <th>weather_cold</th>\n",
              "      <td>824</td>\n",
              "    </tr>\n",
              "    <tr>\n",
              "      <th>weather_dry</th>\n",
              "      <td>499</td>\n",
              "    </tr>\n",
              "    <tr>\n",
              "      <th>weather_wet</th>\n",
              "      <td>822</td>\n",
              "    </tr>\n",
              "    <tr>\n",
              "      <th>weather_cloudy</th>\n",
              "      <td>499</td>\n",
              "    </tr>\n",
              "    <tr>\n",
              "      <th>driver</th>\n",
              "      <td>499</td>\n",
              "    </tr>\n",
              "    <tr>\n",
              "      <th>nationality</th>\n",
              "      <td>499</td>\n",
              "    </tr>\n",
              "    <tr>\n",
              "      <th>constructor</th>\n",
              "      <td>499</td>\n",
              "    </tr>\n",
              "    <tr>\n",
              "      <th>grid</th>\n",
              "      <td>499</td>\n",
              "    </tr>\n",
              "    <tr>\n",
              "      <th>podium</th>\n",
              "      <td>499</td>\n",
              "    </tr>\n",
              "    <tr>\n",
              "      <th>driver_points</th>\n",
              "      <td>499</td>\n",
              "    </tr>\n",
              "    <tr>\n",
              "      <th>driver_wins</th>\n",
              "      <td>499</td>\n",
              "    </tr>\n",
              "    <tr>\n",
              "      <th>driver_standings_pos</th>\n",
              "      <td>823</td>\n",
              "    </tr>\n",
              "    <tr>\n",
              "      <th>constructor_points</th>\n",
              "      <td>499</td>\n",
              "    </tr>\n",
              "    <tr>\n",
              "      <th>constructor_wins</th>\n",
              "      <td>499</td>\n",
              "    </tr>\n",
              "    <tr>\n",
              "      <th>constructor_standings_pos</th>\n",
              "      <td>499</td>\n",
              "    </tr>\n",
              "    <tr>\n",
              "      <th>qualifying_time</th>\n",
              "      <td>499</td>\n",
              "    </tr>\n",
              "    <tr>\n",
              "      <th>driver_age</th>\n",
              "      <td>499</td>\n",
              "    </tr>\n",
              "  </tbody>\n",
              "</table>\n",
              "</div><br><label><b>dtype:</b> int64</label>"
            ]
          },
          "metadata": {},
          "execution_count": 158
        }
      ]
    },
    {
      "cell_type": "code",
      "source": [
        "#Tamaño del dataframe original\n",
        "df.shape\n"
      ],
      "metadata": {
        "colab": {
          "base_uri": "https://localhost:8080/"
        },
        "id": "tqACedE3PPNe",
        "outputId": "a305629a-da29-4ed0-806d-189ed5735a34"
      },
      "execution_count": 159,
      "outputs": [
        {
          "output_type": "execute_result",
          "data": {
            "text/plain": [
              "(16641, 22)"
            ]
          },
          "metadata": {},
          "execution_count": 159
        }
      ]
    },
    {
      "cell_type": "code",
      "source": [
        "#Visualizacion de datos duplicados\n",
        "df.duplicated().sum()"
      ],
      "metadata": {
        "colab": {
          "base_uri": "https://localhost:8080/"
        },
        "id": "S4YyQMqzPYVx",
        "outputId": "84d8eec2-3143-4e3b-f287-ee7772661d58"
      },
      "execution_count": 160,
      "outputs": [
        {
          "output_type": "execute_result",
          "data": {
            "text/plain": [
              "np.int64(344)"
            ]
          },
          "metadata": {},
          "execution_count": 160
        }
      ]
    },
    {
      "cell_type": "code",
      "source": [
        "#Renombramos las columnas a español\n",
        "df2 = df2.rename(columns={\"season\":\"Sesion\",\"round\":\"Recorrido\",\"circuit_id\":\"Circuito\", \"weather_warm\":\"Clima Calido\", \"weather_cold\":\"Clima frio\",\"weather_dry\":\"Clima seco\", \"weather_wet\":\"Clima lluvioso\",\n",
        "                          \"weather_cloudy\":\"Clima nublado\",\"driver\": \"Piloto\", \"nationality\": \"Nacionalidad\",\"grid\":\"Grilla\",\"podium\":\"Podio\",  \"constructor\":\"Constructores\", \"driver_points\":\"Puntos_piloto\",\n",
        "       'driver_wins':\"Victorias_piloto\", 'driver_standings_pos':\"Posicion_piloto\", 'constructor_points':\"Puntos_constructores\",\n",
        "       'constructor_wins':\"Victorias_constructores\", 'constructor_standings_pos': \"Constructores_posicion\", 'qualifying_time': \"Tiempo_clasificación\",\n",
        "       'driver_age': \"Edad_piloto\"})\n",
        "df2\n"
      ],
      "metadata": {
        "colab": {
          "base_uri": "https://localhost:8080/",
          "height": 461
        },
        "id": "Nw9ol19rPrXT",
        "outputId": "8e4ac4e3-c124-49ff-fd70-0c6e960be186"
      },
      "execution_count": 162,
      "outputs": [
        {
          "output_type": "execute_result",
          "data": {
            "text/plain": [
              "       Unnamed: 0  Sesion  Recorrido     Circuito Clima Calido  Clima frio  \\\n",
              "1             5.0  1983.0        1.0  jacarepagua        False         0.0   \n",
              "4             6.0  1983.0        1.0  jacarepagua        False         0.0   \n",
              "5             8.0  1983.0        1.0  jacarepagua        False         0.0   \n",
              "6            22.0  1983.0        1.0  jacarepagua        False         0.0   \n",
              "7            17.0  1983.0        1.0  jacarepagua        False         0.0   \n",
              "...           ...     ...        ...          ...          ...         ...   \n",
              "16633       299.0  1983.0       12.0    zandvoort        False         0.0   \n",
              "16635     10066.0  2009.0        5.0    catalunya         True         0.0   \n",
              "16637      5893.0  1997.0       13.0        monza        False         0.0   \n",
              "16638      9746.0  2008.0        7.0   villeneuve         True         0.0   \n",
              "16639       434.0  1984.0        3.0       zolder        False         0.0   \n",
              "\n",
              "      Clima seco  Clima lluvioso Clima nublado      Piloto  ... Grilla Podio  \\\n",
              "1           True             0.0         False       prost  ...      2     6   \n",
              "4           True             0.0         False     warwick  ...      5     7   \n",
              "5           True             0.0         False      arnoux  ...      6     9   \n",
              "6           True             0.0         False     patrese  ...      7    23   \n",
              "7           True             0.0         False     cheever  ...      8    18   \n",
              "...          ...             ...           ...         ...  ...    ...   ...   \n",
              "16633      False             0.0          True     laffite  ...     17    20   \n",
              "16635      False             0.0         False       sutil  ...     19    20   \n",
              "16637       True             0.0         False      irvine  ...     10     8   \n",
              "16638      False             0.0         False  fisichella  ...     17    14   \n",
              "16639      False             0.0         False      arnoux  ...      2     3   \n",
              "\n",
              "      Puntos_piloto Victorias_piloto  Posicion_piloto  Puntos_constructores  \\\n",
              "1               0.0              0.0              0.0                   0.0   \n",
              "4               0.0              0.0              0.0                   0.0   \n",
              "5               0.0              0.0              0.0                   0.0   \n",
              "6               0.0              0.0              0.0                   0.0   \n",
              "7               0.0              0.0              0.0                   0.0   \n",
              "...             ...              ...              ...                   ...   \n",
              "16633          11.0              0.0              9.0                  36.0   \n",
              "16635           0.0              0.0             16.0                   0.0   \n",
              "16637          18.0              0.0              6.0                  84.0   \n",
              "16638           0.0              0.0             18.0                   0.0   \n",
              "16639           0.0              0.0             23.0                   0.0   \n",
              "\n",
              "       Victorias_constructores  Constructores_posicion  tiempo_clasificación  \\\n",
              "1                          0.0                       0                   0.2   \n",
              "4                          0.0                       0                   0.7   \n",
              "5                          0.0                       0                   1.0   \n",
              "6                          0.0                       0                   1.5   \n",
              "7                          0.0                       0                   1.6   \n",
              "...                        ...                     ...                   ...   \n",
              "16633                      1.0                       4                   4.4   \n",
              "16635                      0.0                      10                   1.2   \n",
              "16637                      4.0                       1                   0.9   \n",
              "16638                      0.0                      10                   1.3   \n",
              "16639                      0.0                      11                   0.6   \n",
              "\n",
              "      Edad_piloto  \n",
              "1            28.0  \n",
              "4            28.0  \n",
              "5            34.0  \n",
              "6            28.0  \n",
              "7            25.0  \n",
              "...           ...  \n",
              "16633        39.0  \n",
              "16635        26.0  \n",
              "16637        31.0  \n",
              "16638        35.0  \n",
              "16639        35.0  \n",
              "\n",
              "[7517 rows x 22 columns]"
            ],
            "text/html": [
              "\n",
              "  <div id=\"df-97050f49-a6a2-4895-9c73-a7c5d2bbd975\" class=\"colab-df-container\">\n",
              "    <div>\n",
              "<style scoped>\n",
              "    .dataframe tbody tr th:only-of-type {\n",
              "        vertical-align: middle;\n",
              "    }\n",
              "\n",
              "    .dataframe tbody tr th {\n",
              "        vertical-align: top;\n",
              "    }\n",
              "\n",
              "    .dataframe thead th {\n",
              "        text-align: right;\n",
              "    }\n",
              "</style>\n",
              "<table border=\"1\" class=\"dataframe\">\n",
              "  <thead>\n",
              "    <tr style=\"text-align: right;\">\n",
              "      <th></th>\n",
              "      <th>Unnamed: 0</th>\n",
              "      <th>Sesion</th>\n",
              "      <th>Recorrido</th>\n",
              "      <th>Circuito</th>\n",
              "      <th>Clima Calido</th>\n",
              "      <th>Clima frio</th>\n",
              "      <th>Clima seco</th>\n",
              "      <th>Clima lluvioso</th>\n",
              "      <th>Clima nublado</th>\n",
              "      <th>Piloto</th>\n",
              "      <th>...</th>\n",
              "      <th>Grilla</th>\n",
              "      <th>Podio</th>\n",
              "      <th>Puntos_piloto</th>\n",
              "      <th>Victorias_piloto</th>\n",
              "      <th>Posicion_piloto</th>\n",
              "      <th>Puntos_constructores</th>\n",
              "      <th>Victorias_constructores</th>\n",
              "      <th>Constructores_posicion</th>\n",
              "      <th>tiempo_clasificación</th>\n",
              "      <th>Edad_piloto</th>\n",
              "    </tr>\n",
              "  </thead>\n",
              "  <tbody>\n",
              "    <tr>\n",
              "      <th>1</th>\n",
              "      <td>5.0</td>\n",
              "      <td>1983.0</td>\n",
              "      <td>1.0</td>\n",
              "      <td>jacarepagua</td>\n",
              "      <td>False</td>\n",
              "      <td>0.0</td>\n",
              "      <td>True</td>\n",
              "      <td>0.0</td>\n",
              "      <td>False</td>\n",
              "      <td>prost</td>\n",
              "      <td>...</td>\n",
              "      <td>2</td>\n",
              "      <td>6</td>\n",
              "      <td>0.0</td>\n",
              "      <td>0.0</td>\n",
              "      <td>0.0</td>\n",
              "      <td>0.0</td>\n",
              "      <td>0.0</td>\n",
              "      <td>0</td>\n",
              "      <td>0.2</td>\n",
              "      <td>28.0</td>\n",
              "    </tr>\n",
              "    <tr>\n",
              "      <th>4</th>\n",
              "      <td>6.0</td>\n",
              "      <td>1983.0</td>\n",
              "      <td>1.0</td>\n",
              "      <td>jacarepagua</td>\n",
              "      <td>False</td>\n",
              "      <td>0.0</td>\n",
              "      <td>True</td>\n",
              "      <td>0.0</td>\n",
              "      <td>False</td>\n",
              "      <td>warwick</td>\n",
              "      <td>...</td>\n",
              "      <td>5</td>\n",
              "      <td>7</td>\n",
              "      <td>0.0</td>\n",
              "      <td>0.0</td>\n",
              "      <td>0.0</td>\n",
              "      <td>0.0</td>\n",
              "      <td>0.0</td>\n",
              "      <td>0</td>\n",
              "      <td>0.7</td>\n",
              "      <td>28.0</td>\n",
              "    </tr>\n",
              "    <tr>\n",
              "      <th>5</th>\n",
              "      <td>8.0</td>\n",
              "      <td>1983.0</td>\n",
              "      <td>1.0</td>\n",
              "      <td>jacarepagua</td>\n",
              "      <td>False</td>\n",
              "      <td>0.0</td>\n",
              "      <td>True</td>\n",
              "      <td>0.0</td>\n",
              "      <td>False</td>\n",
              "      <td>arnoux</td>\n",
              "      <td>...</td>\n",
              "      <td>6</td>\n",
              "      <td>9</td>\n",
              "      <td>0.0</td>\n",
              "      <td>0.0</td>\n",
              "      <td>0.0</td>\n",
              "      <td>0.0</td>\n",
              "      <td>0.0</td>\n",
              "      <td>0</td>\n",
              "      <td>1.0</td>\n",
              "      <td>34.0</td>\n",
              "    </tr>\n",
              "    <tr>\n",
              "      <th>6</th>\n",
              "      <td>22.0</td>\n",
              "      <td>1983.0</td>\n",
              "      <td>1.0</td>\n",
              "      <td>jacarepagua</td>\n",
              "      <td>False</td>\n",
              "      <td>0.0</td>\n",
              "      <td>True</td>\n",
              "      <td>0.0</td>\n",
              "      <td>False</td>\n",
              "      <td>patrese</td>\n",
              "      <td>...</td>\n",
              "      <td>7</td>\n",
              "      <td>23</td>\n",
              "      <td>0.0</td>\n",
              "      <td>0.0</td>\n",
              "      <td>0.0</td>\n",
              "      <td>0.0</td>\n",
              "      <td>0.0</td>\n",
              "      <td>0</td>\n",
              "      <td>1.5</td>\n",
              "      <td>28.0</td>\n",
              "    </tr>\n",
              "    <tr>\n",
              "      <th>7</th>\n",
              "      <td>17.0</td>\n",
              "      <td>1983.0</td>\n",
              "      <td>1.0</td>\n",
              "      <td>jacarepagua</td>\n",
              "      <td>False</td>\n",
              "      <td>0.0</td>\n",
              "      <td>True</td>\n",
              "      <td>0.0</td>\n",
              "      <td>False</td>\n",
              "      <td>cheever</td>\n",
              "      <td>...</td>\n",
              "      <td>8</td>\n",
              "      <td>18</td>\n",
              "      <td>0.0</td>\n",
              "      <td>0.0</td>\n",
              "      <td>0.0</td>\n",
              "      <td>0.0</td>\n",
              "      <td>0.0</td>\n",
              "      <td>0</td>\n",
              "      <td>1.6</td>\n",
              "      <td>25.0</td>\n",
              "    </tr>\n",
              "    <tr>\n",
              "      <th>...</th>\n",
              "      <td>...</td>\n",
              "      <td>...</td>\n",
              "      <td>...</td>\n",
              "      <td>...</td>\n",
              "      <td>...</td>\n",
              "      <td>...</td>\n",
              "      <td>...</td>\n",
              "      <td>...</td>\n",
              "      <td>...</td>\n",
              "      <td>...</td>\n",
              "      <td>...</td>\n",
              "      <td>...</td>\n",
              "      <td>...</td>\n",
              "      <td>...</td>\n",
              "      <td>...</td>\n",
              "      <td>...</td>\n",
              "      <td>...</td>\n",
              "      <td>...</td>\n",
              "      <td>...</td>\n",
              "      <td>...</td>\n",
              "      <td>...</td>\n",
              "    </tr>\n",
              "    <tr>\n",
              "      <th>16633</th>\n",
              "      <td>299.0</td>\n",
              "      <td>1983.0</td>\n",
              "      <td>12.0</td>\n",
              "      <td>zandvoort</td>\n",
              "      <td>False</td>\n",
              "      <td>0.0</td>\n",
              "      <td>False</td>\n",
              "      <td>0.0</td>\n",
              "      <td>True</td>\n",
              "      <td>laffite</td>\n",
              "      <td>...</td>\n",
              "      <td>17</td>\n",
              "      <td>20</td>\n",
              "      <td>11.0</td>\n",
              "      <td>0.0</td>\n",
              "      <td>9.0</td>\n",
              "      <td>36.0</td>\n",
              "      <td>1.0</td>\n",
              "      <td>4</td>\n",
              "      <td>4.4</td>\n",
              "      <td>39.0</td>\n",
              "    </tr>\n",
              "    <tr>\n",
              "      <th>16635</th>\n",
              "      <td>10066.0</td>\n",
              "      <td>2009.0</td>\n",
              "      <td>5.0</td>\n",
              "      <td>catalunya</td>\n",
              "      <td>True</td>\n",
              "      <td>0.0</td>\n",
              "      <td>False</td>\n",
              "      <td>0.0</td>\n",
              "      <td>False</td>\n",
              "      <td>sutil</td>\n",
              "      <td>...</td>\n",
              "      <td>19</td>\n",
              "      <td>20</td>\n",
              "      <td>0.0</td>\n",
              "      <td>0.0</td>\n",
              "      <td>16.0</td>\n",
              "      <td>0.0</td>\n",
              "      <td>0.0</td>\n",
              "      <td>10</td>\n",
              "      <td>1.2</td>\n",
              "      <td>26.0</td>\n",
              "    </tr>\n",
              "    <tr>\n",
              "      <th>16637</th>\n",
              "      <td>5893.0</td>\n",
              "      <td>1997.0</td>\n",
              "      <td>13.0</td>\n",
              "      <td>monza</td>\n",
              "      <td>False</td>\n",
              "      <td>0.0</td>\n",
              "      <td>True</td>\n",
              "      <td>0.0</td>\n",
              "      <td>False</td>\n",
              "      <td>irvine</td>\n",
              "      <td>...</td>\n",
              "      <td>10</td>\n",
              "      <td>8</td>\n",
              "      <td>18.0</td>\n",
              "      <td>0.0</td>\n",
              "      <td>6.0</td>\n",
              "      <td>84.0</td>\n",
              "      <td>4.0</td>\n",
              "      <td>1</td>\n",
              "      <td>0.9</td>\n",
              "      <td>31.0</td>\n",
              "    </tr>\n",
              "    <tr>\n",
              "      <th>16638</th>\n",
              "      <td>9746.0</td>\n",
              "      <td>2008.0</td>\n",
              "      <td>7.0</td>\n",
              "      <td>villeneuve</td>\n",
              "      <td>True</td>\n",
              "      <td>0.0</td>\n",
              "      <td>False</td>\n",
              "      <td>0.0</td>\n",
              "      <td>False</td>\n",
              "      <td>fisichella</td>\n",
              "      <td>...</td>\n",
              "      <td>17</td>\n",
              "      <td>14</td>\n",
              "      <td>0.0</td>\n",
              "      <td>0.0</td>\n",
              "      <td>18.0</td>\n",
              "      <td>0.0</td>\n",
              "      <td>0.0</td>\n",
              "      <td>10</td>\n",
              "      <td>1.3</td>\n",
              "      <td>35.0</td>\n",
              "    </tr>\n",
              "    <tr>\n",
              "      <th>16639</th>\n",
              "      <td>434.0</td>\n",
              "      <td>1984.0</td>\n",
              "      <td>3.0</td>\n",
              "      <td>zolder</td>\n",
              "      <td>False</td>\n",
              "      <td>0.0</td>\n",
              "      <td>False</td>\n",
              "      <td>0.0</td>\n",
              "      <td>False</td>\n",
              "      <td>arnoux</td>\n",
              "      <td>...</td>\n",
              "      <td>2</td>\n",
              "      <td>3</td>\n",
              "      <td>0.0</td>\n",
              "      <td>0.0</td>\n",
              "      <td>23.0</td>\n",
              "      <td>0.0</td>\n",
              "      <td>0.0</td>\n",
              "      <td>11</td>\n",
              "      <td>0.6</td>\n",
              "      <td>35.0</td>\n",
              "    </tr>\n",
              "  </tbody>\n",
              "</table>\n",
              "<p>7517 rows × 22 columns</p>\n",
              "</div>\n",
              "    <div class=\"colab-df-buttons\">\n",
              "\n",
              "  <div class=\"colab-df-container\">\n",
              "    <button class=\"colab-df-convert\" onclick=\"convertToInteractive('df-97050f49-a6a2-4895-9c73-a7c5d2bbd975')\"\n",
              "            title=\"Convert this dataframe to an interactive table.\"\n",
              "            style=\"display:none;\">\n",
              "\n",
              "  <svg xmlns=\"http://www.w3.org/2000/svg\" height=\"24px\" viewBox=\"0 -960 960 960\">\n",
              "    <path d=\"M120-120v-720h720v720H120Zm60-500h600v-160H180v160Zm220 220h160v-160H400v160Zm0 220h160v-160H400v160ZM180-400h160v-160H180v160Zm440 0h160v-160H620v160ZM180-180h160v-160H180v160Zm440 0h160v-160H620v160Z\"/>\n",
              "  </svg>\n",
              "    </button>\n",
              "\n",
              "  <style>\n",
              "    .colab-df-container {\n",
              "      display:flex;\n",
              "      gap: 12px;\n",
              "    }\n",
              "\n",
              "    .colab-df-convert {\n",
              "      background-color: #E8F0FE;\n",
              "      border: none;\n",
              "      border-radius: 50%;\n",
              "      cursor: pointer;\n",
              "      display: none;\n",
              "      fill: #1967D2;\n",
              "      height: 32px;\n",
              "      padding: 0 0 0 0;\n",
              "      width: 32px;\n",
              "    }\n",
              "\n",
              "    .colab-df-convert:hover {\n",
              "      background-color: #E2EBFA;\n",
              "      box-shadow: 0px 1px 2px rgba(60, 64, 67, 0.3), 0px 1px 3px 1px rgba(60, 64, 67, 0.15);\n",
              "      fill: #174EA6;\n",
              "    }\n",
              "\n",
              "    .colab-df-buttons div {\n",
              "      margin-bottom: 4px;\n",
              "    }\n",
              "\n",
              "    [theme=dark] .colab-df-convert {\n",
              "      background-color: #3B4455;\n",
              "      fill: #D2E3FC;\n",
              "    }\n",
              "\n",
              "    [theme=dark] .colab-df-convert:hover {\n",
              "      background-color: #434B5C;\n",
              "      box-shadow: 0px 1px 3px 1px rgba(0, 0, 0, 0.15);\n",
              "      filter: drop-shadow(0px 1px 2px rgba(0, 0, 0, 0.3));\n",
              "      fill: #FFFFFF;\n",
              "    }\n",
              "  </style>\n",
              "\n",
              "    <script>\n",
              "      const buttonEl =\n",
              "        document.querySelector('#df-97050f49-a6a2-4895-9c73-a7c5d2bbd975 button.colab-df-convert');\n",
              "      buttonEl.style.display =\n",
              "        google.colab.kernel.accessAllowed ? 'block' : 'none';\n",
              "\n",
              "      async function convertToInteractive(key) {\n",
              "        const element = document.querySelector('#df-97050f49-a6a2-4895-9c73-a7c5d2bbd975');\n",
              "        const dataTable =\n",
              "          await google.colab.kernel.invokeFunction('convertToInteractive',\n",
              "                                                    [key], {});\n",
              "        if (!dataTable) return;\n",
              "\n",
              "        const docLinkHtml = 'Like what you see? Visit the ' +\n",
              "          '<a target=\"_blank\" href=https://colab.research.google.com/notebooks/data_table.ipynb>data table notebook</a>'\n",
              "          + ' to learn more about interactive tables.';\n",
              "        element.innerHTML = '';\n",
              "        dataTable['output_type'] = 'display_data';\n",
              "        await google.colab.output.renderOutput(dataTable, element);\n",
              "        const docLink = document.createElement('div');\n",
              "        docLink.innerHTML = docLinkHtml;\n",
              "        element.appendChild(docLink);\n",
              "      }\n",
              "    </script>\n",
              "  </div>\n",
              "\n",
              "\n",
              "    <div id=\"df-63ae2ec5-e413-495d-bbd2-24b97e39ea89\">\n",
              "      <button class=\"colab-df-quickchart\" onclick=\"quickchart('df-63ae2ec5-e413-495d-bbd2-24b97e39ea89')\"\n",
              "                title=\"Suggest charts\"\n",
              "                style=\"display:none;\">\n",
              "\n",
              "<svg xmlns=\"http://www.w3.org/2000/svg\" height=\"24px\"viewBox=\"0 0 24 24\"\n",
              "     width=\"24px\">\n",
              "    <g>\n",
              "        <path d=\"M19 3H5c-1.1 0-2 .9-2 2v14c0 1.1.9 2 2 2h14c1.1 0 2-.9 2-2V5c0-1.1-.9-2-2-2zM9 17H7v-7h2v7zm4 0h-2V7h2v10zm4 0h-2v-4h2v4z\"/>\n",
              "    </g>\n",
              "</svg>\n",
              "      </button>\n",
              "\n",
              "<style>\n",
              "  .colab-df-quickchart {\n",
              "      --bg-color: #E8F0FE;\n",
              "      --fill-color: #1967D2;\n",
              "      --hover-bg-color: #E2EBFA;\n",
              "      --hover-fill-color: #174EA6;\n",
              "      --disabled-fill-color: #AAA;\n",
              "      --disabled-bg-color: #DDD;\n",
              "  }\n",
              "\n",
              "  [theme=dark] .colab-df-quickchart {\n",
              "      --bg-color: #3B4455;\n",
              "      --fill-color: #D2E3FC;\n",
              "      --hover-bg-color: #434B5C;\n",
              "      --hover-fill-color: #FFFFFF;\n",
              "      --disabled-bg-color: #3B4455;\n",
              "      --disabled-fill-color: #666;\n",
              "  }\n",
              "\n",
              "  .colab-df-quickchart {\n",
              "    background-color: var(--bg-color);\n",
              "    border: none;\n",
              "    border-radius: 50%;\n",
              "    cursor: pointer;\n",
              "    display: none;\n",
              "    fill: var(--fill-color);\n",
              "    height: 32px;\n",
              "    padding: 0;\n",
              "    width: 32px;\n",
              "  }\n",
              "\n",
              "  .colab-df-quickchart:hover {\n",
              "    background-color: var(--hover-bg-color);\n",
              "    box-shadow: 0 1px 2px rgba(60, 64, 67, 0.3), 0 1px 3px 1px rgba(60, 64, 67, 0.15);\n",
              "    fill: var(--button-hover-fill-color);\n",
              "  }\n",
              "\n",
              "  .colab-df-quickchart-complete:disabled,\n",
              "  .colab-df-quickchart-complete:disabled:hover {\n",
              "    background-color: var(--disabled-bg-color);\n",
              "    fill: var(--disabled-fill-color);\n",
              "    box-shadow: none;\n",
              "  }\n",
              "\n",
              "  .colab-df-spinner {\n",
              "    border: 2px solid var(--fill-color);\n",
              "    border-color: transparent;\n",
              "    border-bottom-color: var(--fill-color);\n",
              "    animation:\n",
              "      spin 1s steps(1) infinite;\n",
              "  }\n",
              "\n",
              "  @keyframes spin {\n",
              "    0% {\n",
              "      border-color: transparent;\n",
              "      border-bottom-color: var(--fill-color);\n",
              "      border-left-color: var(--fill-color);\n",
              "    }\n",
              "    20% {\n",
              "      border-color: transparent;\n",
              "      border-left-color: var(--fill-color);\n",
              "      border-top-color: var(--fill-color);\n",
              "    }\n",
              "    30% {\n",
              "      border-color: transparent;\n",
              "      border-left-color: var(--fill-color);\n",
              "      border-top-color: var(--fill-color);\n",
              "      border-right-color: var(--fill-color);\n",
              "    }\n",
              "    40% {\n",
              "      border-color: transparent;\n",
              "      border-right-color: var(--fill-color);\n",
              "      border-top-color: var(--fill-color);\n",
              "    }\n",
              "    60% {\n",
              "      border-color: transparent;\n",
              "      border-right-color: var(--fill-color);\n",
              "    }\n",
              "    80% {\n",
              "      border-color: transparent;\n",
              "      border-right-color: var(--fill-color);\n",
              "      border-bottom-color: var(--fill-color);\n",
              "    }\n",
              "    90% {\n",
              "      border-color: transparent;\n",
              "      border-bottom-color: var(--fill-color);\n",
              "    }\n",
              "  }\n",
              "</style>\n",
              "\n",
              "      <script>\n",
              "        async function quickchart(key) {\n",
              "          const quickchartButtonEl =\n",
              "            document.querySelector('#' + key + ' button');\n",
              "          quickchartButtonEl.disabled = true;  // To prevent multiple clicks.\n",
              "          quickchartButtonEl.classList.add('colab-df-spinner');\n",
              "          try {\n",
              "            const charts = await google.colab.kernel.invokeFunction(\n",
              "                'suggestCharts', [key], {});\n",
              "          } catch (error) {\n",
              "            console.error('Error during call to suggestCharts:', error);\n",
              "          }\n",
              "          quickchartButtonEl.classList.remove('colab-df-spinner');\n",
              "          quickchartButtonEl.classList.add('colab-df-quickchart-complete');\n",
              "        }\n",
              "        (() => {\n",
              "          let quickchartButtonEl =\n",
              "            document.querySelector('#df-63ae2ec5-e413-495d-bbd2-24b97e39ea89 button');\n",
              "          quickchartButtonEl.style.display =\n",
              "            google.colab.kernel.accessAllowed ? 'block' : 'none';\n",
              "        })();\n",
              "      </script>\n",
              "    </div>\n",
              "\n",
              "  <div id=\"id_6e6d5647-0818-4bda-864b-2e311ba1ab91\">\n",
              "    <style>\n",
              "      .colab-df-generate {\n",
              "        background-color: #E8F0FE;\n",
              "        border: none;\n",
              "        border-radius: 50%;\n",
              "        cursor: pointer;\n",
              "        display: none;\n",
              "        fill: #1967D2;\n",
              "        height: 32px;\n",
              "        padding: 0 0 0 0;\n",
              "        width: 32px;\n",
              "      }\n",
              "\n",
              "      .colab-df-generate:hover {\n",
              "        background-color: #E2EBFA;\n",
              "        box-shadow: 0px 1px 2px rgba(60, 64, 67, 0.3), 0px 1px 3px 1px rgba(60, 64, 67, 0.15);\n",
              "        fill: #174EA6;\n",
              "      }\n",
              "\n",
              "      [theme=dark] .colab-df-generate {\n",
              "        background-color: #3B4455;\n",
              "        fill: #D2E3FC;\n",
              "      }\n",
              "\n",
              "      [theme=dark] .colab-df-generate:hover {\n",
              "        background-color: #434B5C;\n",
              "        box-shadow: 0px 1px 3px 1px rgba(0, 0, 0, 0.15);\n",
              "        filter: drop-shadow(0px 1px 2px rgba(0, 0, 0, 0.3));\n",
              "        fill: #FFFFFF;\n",
              "      }\n",
              "    </style>\n",
              "    <button class=\"colab-df-generate\" onclick=\"generateWithVariable('df2')\"\n",
              "            title=\"Generate code using this dataframe.\"\n",
              "            style=\"display:none;\">\n",
              "\n",
              "  <svg xmlns=\"http://www.w3.org/2000/svg\" height=\"24px\"viewBox=\"0 0 24 24\"\n",
              "       width=\"24px\">\n",
              "    <path d=\"M7,19H8.4L18.45,9,17,7.55,7,17.6ZM5,21V16.75L18.45,3.32a2,2,0,0,1,2.83,0l1.4,1.43a1.91,1.91,0,0,1,.58,1.4,1.91,1.91,0,0,1-.58,1.4L9.25,21ZM18.45,9,17,7.55Zm-12,3A5.31,5.31,0,0,0,4.9,8.1,5.31,5.31,0,0,0,1,6.5,5.31,5.31,0,0,0,4.9,4.9,5.31,5.31,0,0,0,6.5,1,5.31,5.31,0,0,0,8.1,4.9,5.31,5.31,0,0,0,12,6.5,5.46,5.46,0,0,0,6.5,12Z\"/>\n",
              "  </svg>\n",
              "    </button>\n",
              "    <script>\n",
              "      (() => {\n",
              "      const buttonEl =\n",
              "        document.querySelector('#id_6e6d5647-0818-4bda-864b-2e311ba1ab91 button.colab-df-generate');\n",
              "      buttonEl.style.display =\n",
              "        google.colab.kernel.accessAllowed ? 'block' : 'none';\n",
              "\n",
              "      buttonEl.onclick = () => {\n",
              "        google.colab.notebook.generateWithVariable('df2');\n",
              "      }\n",
              "      })();\n",
              "    </script>\n",
              "  </div>\n",
              "\n",
              "    </div>\n",
              "  </div>\n"
            ],
            "application/vnd.google.colaboratory.intrinsic+json": {
              "type": "dataframe",
              "variable_name": "df2"
            }
          },
          "metadata": {},
          "execution_count": 162
        }
      ]
    },
    {
      "cell_type": "code",
      "source": [
        "#Se procede a eliminar"
      ],
      "metadata": {
        "id": "y5BI5FLBP-W8"
      },
      "execution_count": null,
      "outputs": []
    },
    {
      "cell_type": "code",
      "source": [
        "df2[\"Sesion\"].unique()"
      ],
      "metadata": {
        "colab": {
          "base_uri": "https://localhost:8080/"
        },
        "id": "evOGAEs64R6w",
        "outputId": "0a3074ff-ccc0-48b7-94d5-dd60f3165c4d"
      },
      "execution_count": 26,
      "outputs": [
        {
          "output_type": "execute_result",
          "data": {
            "text/plain": [
              "array([1983.,   nan, 1984., 1985., 1986., 1987., 1988., 1989., 1990.,\n",
              "       1991., 1992., 1993., 1994., 1995., 1996., 1997., 1998., 1999.,\n",
              "       2000., 2001., 2002., 2003., 2004., 2005., 2006., 2007., 2008.,\n",
              "       2009., 2010., 2011., 2012., 2013., 2014., 2015., 2016., 2017.,\n",
              "       2018., 2019., 2020., 2021.])"
            ]
          },
          "metadata": {},
          "execution_count": 26
        }
      ]
    },
    {
      "cell_type": "code",
      "source": [
        "df2[\"Sesion\"].isnull().sum()"
      ],
      "metadata": {
        "colab": {
          "base_uri": "https://localhost:8080/"
        },
        "id": "3xuY_1pC4d1H",
        "outputId": "80076f45-7e7a-41eb-9d5d-cdc63a1c30bc"
      },
      "execution_count": 28,
      "outputs": [
        {
          "output_type": "execute_result",
          "data": {
            "text/plain": [
              "np.int64(481)"
            ]
          },
          "metadata": {},
          "execution_count": 28
        }
      ]
    },
    {
      "cell_type": "code",
      "source": [
        "df2 = df2[df2[\"Sesion\"].notna()]"
      ],
      "metadata": {
        "id": "aSTgVHeT4euD"
      },
      "execution_count": 29,
      "outputs": []
    },
    {
      "cell_type": "code",
      "source": [
        "df2[\"Sesion\"].unique()"
      ],
      "metadata": {
        "colab": {
          "base_uri": "https://localhost:8080/"
        },
        "id": "lc6peNqF4kxI",
        "outputId": "5d90741a-2028-4b8d-b64b-66c48487a54b"
      },
      "execution_count": 30,
      "outputs": [
        {
          "output_type": "execute_result",
          "data": {
            "text/plain": [
              "array([1983., 1984., 1985., 1986., 1987., 1988., 1989., 1990., 1991.,\n",
              "       1992., 1993., 1994., 1995., 1996., 1997., 1998., 1999., 2000.,\n",
              "       2001., 2002., 2003., 2004., 2005., 2006., 2007., 2008., 2009.,\n",
              "       2010., 2011., 2012., 2013., 2014., 2015., 2016., 2017., 2018.,\n",
              "       2019., 2020., 2021.])"
            ]
          },
          "metadata": {},
          "execution_count": 30
        }
      ]
    },
    {
      "cell_type": "code",
      "source": [
        "df2[\"Recorrido\"].unique()"
      ],
      "metadata": {
        "colab": {
          "base_uri": "https://localhost:8080/"
        },
        "id": "c5YEYFoE2v4D",
        "outputId": "78cd84f3-abb2-4f6a-8890-2a2c6c070e5a"
      },
      "execution_count": 19,
      "outputs": [
        {
          "output_type": "execute_result",
          "data": {
            "text/plain": [
              "array([ 1., nan,  2.,  3.,  4.,  5.,  6.,  7.,  8.,  9., 10., 11., 12.,\n",
              "       13., 14., 15., 16., 17., 18., 19., 20., 21.])"
            ]
          },
          "metadata": {},
          "execution_count": 19
        }
      ]
    },
    {
      "cell_type": "code",
      "source": [
        "df2[\"Recorrido\"].isnull().sum()"
      ],
      "metadata": {
        "colab": {
          "base_uri": "https://localhost:8080/"
        },
        "id": "ABaAhr8w2-Fq",
        "outputId": "3d188b97-f7ea-4060-a38f-2e4600d4789e"
      },
      "execution_count": 20,
      "outputs": [
        {
          "output_type": "execute_result",
          "data": {
            "text/plain": [
              "np.int64(499)"
            ]
          },
          "metadata": {},
          "execution_count": 20
        }
      ]
    },
    {
      "cell_type": "code",
      "source": [
        "df2 = df2[df2[\"Recorrido\"].notna()]"
      ],
      "metadata": {
        "id": "TLfp_pF52-pY"
      },
      "execution_count": 22,
      "outputs": []
    },
    {
      "cell_type": "code",
      "source": [
        "df2[\"Recorrido\"].unique()"
      ],
      "metadata": {
        "colab": {
          "base_uri": "https://localhost:8080/"
        },
        "id": "3F_yKh313BCM",
        "outputId": "94747da8-a7a6-4215-8652-13337e4e3192"
      },
      "execution_count": 25,
      "outputs": [
        {
          "output_type": "execute_result",
          "data": {
            "text/plain": [
              "array([ 1.,  2.,  3.,  4.,  5.,  6.,  7.,  8.,  9., 10., 11., 12., 13.,\n",
              "       14., 15., 16., 17., 18., 19., 20., 21.])"
            ]
          },
          "metadata": {},
          "execution_count": 25
        }
      ]
    },
    {
      "cell_type": "code",
      "source": [
        "df2[\"Circuito\"].unique()"
      ],
      "metadata": {
        "colab": {
          "base_uri": "https://localhost:8080/"
        },
        "id": "nMC5zZ-Q37yl",
        "outputId": "4fdb59b1-ce7f-4b61-fbe5-8754a8f109e5"
      },
      "execution_count": 33,
      "outputs": [
        {
          "output_type": "execute_result",
          "data": {
            "text/plain": [
              "array(['Auto%#', 'jacarepagua', nan, 'long_beach', 'ricard', 'imola',\n",
              "       'monaco', 'spa', 'detroit', 'villeneuve', 'silverstone',\n",
              "       'hockenheimring', 'osterreichring', 'zandvoort', 'monza',\n",
              "       'brands_hatch', 'kyalami', 'zolder', 'dijon', 'dallas',\n",
              "       'nurburgring', 'estoril', 'adelaide', 'jerez', 'hungaroring',\n",
              "       'rodriguez', 'suzuka', 'phoenix', 'interlagos', 'magny_cours',\n",
              "       'catalunya', 'donington', 'okayama', 'galvez', 'albert_park',\n",
              "       'sepang', 'indianapolis', 'bahrain', 'shanghai', 'istanbul',\n",
              "       'fuji', 'valencia', 'marina_bay', 'yas_marina', 'yeongam', 'buddh',\n",
              "       'americas', 'red_bull_ring', 'sochi', 'BAK', 'mugello', 'portimao'],\n",
              "      dtype=object)"
            ]
          },
          "metadata": {},
          "execution_count": 33
        }
      ]
    },
    {
      "cell_type": "code",
      "source": [
        "df2[\"Circuito\"].isnull().sum()"
      ],
      "metadata": {
        "colab": {
          "base_uri": "https://localhost:8080/"
        },
        "id": "M0nUpfzl3-8O",
        "outputId": "fcb81dac-72c8-4934-fd3b-8222a4494877"
      },
      "execution_count": 34,
      "outputs": [
        {
          "output_type": "execute_result",
          "data": {
            "text/plain": [
              "np.int64(467)"
            ]
          },
          "metadata": {},
          "execution_count": 34
        }
      ]
    },
    {
      "cell_type": "code",
      "source": [
        "df2 = df2[df2[\"Circuito\"] != \"Auto%#\"]"
      ],
      "metadata": {
        "id": "xjMNYuUC4FbU"
      },
      "execution_count": 41,
      "outputs": []
    },
    {
      "cell_type": "code",
      "source": [
        "df2[\"Circuito\"].unique()"
      ],
      "metadata": {
        "colab": {
          "base_uri": "https://localhost:8080/"
        },
        "id": "u4vr-r1G4Hrc",
        "outputId": "75672b99-b4e6-4541-c0cc-c834f6d560d5"
      },
      "execution_count": 38,
      "outputs": [
        {
          "output_type": "execute_result",
          "data": {
            "text/plain": [
              "array(['jacarepagua', 'long_beach', 'ricard', 'imola', 'monaco', 'spa',\n",
              "       'detroit', 'villeneuve', 'silverstone', 'hockenheimring',\n",
              "       'osterreichring', 'zandvoort', 'monza', 'brands_hatch', 'kyalami',\n",
              "       'zolder', 'dijon', 'dallas', 'nurburgring', 'estoril', 'adelaide',\n",
              "       'jerez', 'hungaroring', 'rodriguez', 'suzuka', 'phoenix',\n",
              "       'interlagos', 'magny_cours', 'catalunya', 'donington', 'okayama',\n",
              "       'galvez', 'albert_park', 'sepang', 'indianapolis', 'bahrain',\n",
              "       'shanghai', 'istanbul', 'fuji', 'valencia', 'marina_bay',\n",
              "       'yas_marina', 'yeongam', 'buddh', 'americas', 'red_bull_ring',\n",
              "       'sochi', 'BAK', 'mugello', 'portimao'], dtype=object)"
            ]
          },
          "metadata": {},
          "execution_count": 38
        }
      ]
    },
    {
      "cell_type": "code",
      "source": [
        "df2[\"Clima Calido\"].unique()"
      ],
      "metadata": {
        "colab": {
          "base_uri": "https://localhost:8080/"
        },
        "id": "geJeF_vg5vJQ",
        "outputId": "13feb33a-d03c-4525-865b-ada20b3ec668"
      },
      "execution_count": 40,
      "outputs": [
        {
          "output_type": "execute_result",
          "data": {
            "text/plain": [
              "array([False, True, nan], dtype=object)"
            ]
          },
          "metadata": {},
          "execution_count": 40
        }
      ]
    },
    {
      "cell_type": "code",
      "source": [
        "df2[\"Clima Calido\"].isnull().sum()"
      ],
      "metadata": {
        "colab": {
          "base_uri": "https://localhost:8080/"
        },
        "id": "x2VvJDEL58Mb",
        "outputId": "74e8c8b6-84b1-40cb-e40f-6c417a7fa30b"
      },
      "execution_count": 42,
      "outputs": [
        {
          "output_type": "execute_result",
          "data": {
            "text/plain": [
              "np.int64(443)"
            ]
          },
          "metadata": {},
          "execution_count": 42
        }
      ]
    },
    {
      "cell_type": "code",
      "source": [
        "df2 = df2[df2[\"Clima Calido\"].notna()]"
      ],
      "metadata": {
        "id": "mDASI2Gr5-vs"
      },
      "execution_count": 45,
      "outputs": []
    },
    {
      "cell_type": "code",
      "source": [
        "df2[\"Clima Calido\"].unique()"
      ],
      "metadata": {
        "colab": {
          "base_uri": "https://localhost:8080/"
        },
        "id": "Wogn3gG76B0d",
        "outputId": "f7b5db5d-fa45-40f3-bbbe-575eb239f13b"
      },
      "execution_count": 46,
      "outputs": [
        {
          "output_type": "execute_result",
          "data": {
            "text/plain": [
              "array([False, True], dtype=object)"
            ]
          },
          "metadata": {},
          "execution_count": 46
        }
      ]
    },
    {
      "cell_type": "code",
      "source": [
        "df2[\"Clima frio\"].unique()"
      ],
      "metadata": {
        "colab": {
          "base_uri": "https://localhost:8080/"
        },
        "id": "N2DHdd5l6o-c",
        "outputId": "1f336e65-efe4-4519-8889-ecfd6b5a34f1"
      },
      "execution_count": 48,
      "outputs": [
        {
          "output_type": "execute_result",
          "data": {
            "text/plain": [
              "array([ 0., nan,  1.])"
            ]
          },
          "metadata": {},
          "execution_count": 48
        }
      ]
    },
    {
      "cell_type": "code",
      "source": [
        "df2[\"Clima frio\"].isnull().sum()"
      ],
      "metadata": {
        "colab": {
          "base_uri": "https://localhost:8080/"
        },
        "id": "CsRPrz2561HV",
        "outputId": "ebff8636-1248-4107-f23b-139aa7e92531"
      },
      "execution_count": 49,
      "outputs": [
        {
          "output_type": "execute_result",
          "data": {
            "text/plain": [
              "np.int64(720)"
            ]
          },
          "metadata": {},
          "execution_count": 49
        }
      ]
    },
    {
      "cell_type": "code",
      "source": [
        "df2 = df2[df2[\"Clima frio\"].notna()]"
      ],
      "metadata": {
        "id": "WRCi2Wxp62p8"
      },
      "execution_count": 50,
      "outputs": []
    },
    {
      "cell_type": "code",
      "source": [
        "df2[\"Clima frio\"].unique()"
      ],
      "metadata": {
        "colab": {
          "base_uri": "https://localhost:8080/"
        },
        "id": "V1ly6GVH67KZ",
        "outputId": "7ed9d34f-afea-4d91-e6a3-bac3d7201040"
      },
      "execution_count": 51,
      "outputs": [
        {
          "output_type": "execute_result",
          "data": {
            "text/plain": [
              "array([0., 1.])"
            ]
          },
          "metadata": {},
          "execution_count": 51
        }
      ]
    },
    {
      "cell_type": "code",
      "source": [
        "df2[\"Clima seco\"].unique()"
      ],
      "metadata": {
        "colab": {
          "base_uri": "https://localhost:8080/"
        },
        "id": "SKhLAqfn7Exw",
        "outputId": "43181366-992b-4f8b-801f-0b1622f0562a"
      },
      "execution_count": 52,
      "outputs": [
        {
          "output_type": "execute_result",
          "data": {
            "text/plain": [
              "array(['True', nan, 'False', 'Auto%#'], dtype=object)"
            ]
          },
          "metadata": {},
          "execution_count": 52
        }
      ]
    },
    {
      "cell_type": "code",
      "source": [
        "df2[\"Clima seco\"].isnull().sum()"
      ],
      "metadata": {
        "colab": {
          "base_uri": "https://localhost:8080/"
        },
        "id": "jduNRYmR7HTv",
        "outputId": "3255da2a-7561-4d53-aad1-d09dd6b23486"
      },
      "execution_count": 53,
      "outputs": [
        {
          "output_type": "execute_result",
          "data": {
            "text/plain": [
              "np.int64(411)"
            ]
          },
          "metadata": {},
          "execution_count": 53
        }
      ]
    },
    {
      "cell_type": "code",
      "source": [
        "df2 = df2[(df2[\"Clima seco\"] != \"Auto%#\") & (df2[\"Clima seco\"].notna())]"
      ],
      "metadata": {
        "id": "12uuCZHm7KB4"
      },
      "execution_count": 56,
      "outputs": []
    },
    {
      "cell_type": "code",
      "source": [
        "df2[\"Clima seco\"].unique()"
      ],
      "metadata": {
        "colab": {
          "base_uri": "https://localhost:8080/"
        },
        "id": "Ld12BKgF7UZQ",
        "outputId": "f574ee8d-2701-4c7d-9f7d-28c724c51b32"
      },
      "execution_count": 57,
      "outputs": [
        {
          "output_type": "execute_result",
          "data": {
            "text/plain": [
              "array(['True', 'False'], dtype=object)"
            ]
          },
          "metadata": {},
          "execution_count": 57
        }
      ]
    },
    {
      "cell_type": "code",
      "source": [
        "df2[\"Clima lluvioso\"].unique()"
      ],
      "metadata": {
        "colab": {
          "base_uri": "https://localhost:8080/"
        },
        "id": "PH6pMGO57kjl",
        "outputId": "3aa6b625-ec5d-4f40-dbd7-8fc54cb071f0"
      },
      "execution_count": 58,
      "outputs": [
        {
          "output_type": "execute_result",
          "data": {
            "text/plain": [
              "array([ 0.,  1., nan])"
            ]
          },
          "metadata": {},
          "execution_count": 58
        }
      ]
    },
    {
      "cell_type": "code",
      "source": [
        "df2[\"Clima lluvioso\"].isnull().sum()"
      ],
      "metadata": {
        "colab": {
          "base_uri": "https://localhost:8080/"
        },
        "id": "15CXLv1J7qUU",
        "outputId": "bbbbcf5e-eddc-4797-87e0-f9d8b8c2a257"
      },
      "execution_count": 60,
      "outputs": [
        {
          "output_type": "execute_result",
          "data": {
            "text/plain": [
              "np.int64(635)"
            ]
          },
          "metadata": {},
          "execution_count": 60
        }
      ]
    },
    {
      "cell_type": "code",
      "source": [
        "df2 = df2[df2[\"Clima lluvioso\"].notna()]"
      ],
      "metadata": {
        "id": "W6tgzezD7tZ3"
      },
      "execution_count": 61,
      "outputs": []
    },
    {
      "cell_type": "code",
      "source": [
        "df2[\"Clima lluvioso\"].unique()"
      ],
      "metadata": {
        "colab": {
          "base_uri": "https://localhost:8080/"
        },
        "id": "k5yj2Fkb714u",
        "outputId": "fb749e54-3ce9-4890-91a3-db705ededd04"
      },
      "execution_count": 62,
      "outputs": [
        {
          "output_type": "execute_result",
          "data": {
            "text/plain": [
              "array([0., 1.])"
            ]
          },
          "metadata": {},
          "execution_count": 62
        }
      ]
    },
    {
      "cell_type": "code",
      "source": [
        "df2[\"Clima nublado\"].unique()"
      ],
      "metadata": {
        "colab": {
          "base_uri": "https://localhost:8080/"
        },
        "id": "rdBKRJfP73qT",
        "outputId": "bb7d39bd-642e-4d1b-de4b-9e54b3e2fe3b"
      },
      "execution_count": 63,
      "outputs": [
        {
          "output_type": "execute_result",
          "data": {
            "text/plain": [
              "array(['False', nan, 'Auto%#', 'True'], dtype=object)"
            ]
          },
          "metadata": {},
          "execution_count": 63
        }
      ]
    },
    {
      "cell_type": "code",
      "source": [
        "df2[\"Clima nublado\"].isnull().sum()"
      ],
      "metadata": {
        "colab": {
          "base_uri": "https://localhost:8080/"
        },
        "id": "rR_z_STo79HX",
        "outputId": "7c50494d-e484-4dd0-fda4-d3f66d4ce838"
      },
      "execution_count": 64,
      "outputs": [
        {
          "output_type": "execute_result",
          "data": {
            "text/plain": [
              "np.int64(362)"
            ]
          },
          "metadata": {},
          "execution_count": 64
        }
      ]
    },
    {
      "cell_type": "code",
      "source": [
        "df2 = df2[(df2[\"Clima nublado\"] != \"Auto%#\") & (df2[\"Clima nublado\"].notna())]"
      ],
      "metadata": {
        "id": "7zhiGckM8B_b"
      },
      "execution_count": 65,
      "outputs": []
    },
    {
      "cell_type": "code",
      "source": [
        "df2[\"Clima nublado\"].unique()"
      ],
      "metadata": {
        "colab": {
          "base_uri": "https://localhost:8080/"
        },
        "id": "T7etxOla8EOb",
        "outputId": "f7bebda6-05b9-4f7b-fb1b-dc7b340cd4bf"
      },
      "execution_count": 66,
      "outputs": [
        {
          "output_type": "execute_result",
          "data": {
            "text/plain": [
              "array(['False', 'True'], dtype=object)"
            ]
          },
          "metadata": {},
          "execution_count": 66
        }
      ]
    },
    {
      "cell_type": "code",
      "source": [
        "df2[\"Piloto\"].unique()"
      ],
      "metadata": {
        "colab": {
          "base_uri": "https://localhost:8080/"
        },
        "id": "lbnOE9mX8HhN",
        "outputId": "a4c4572b-9b81-4762-be32-0a813fef2c1d"
      },
      "execution_count": 67,
      "outputs": [
        {
          "output_type": "execute_result",
          "data": {
            "text/plain": [
              "array(['prost', 'warwick', 'arnoux', 'patrese', 'cheever', 'lauda',\n",
              "       'jarier', 'guerrero', 'watson', 'boesel', 'laffite', 'cecotto',\n",
              "       'surer', 'sullivan', 'mansell', 'serra', 'salazar', 'tambay', nan,\n",
              "       'alboreto', 'jones', 'giacomelli', 'cesaris', 'baldi',\n",
              "       'manfred_winkelhock', 'angelis', 'corrado_fabi', 'piquet',\n",
              "       'keke_rosberg', 'ghinzani', 'boutsen', 'johansson', 'palmer',\n",
              "       'acheson', 'senna', 'brundle', 'hesnault', 'bellof', 'fabi',\n",
              "       'alliot', 'rothengatter', 'berger', 'gartner', 'streiff',\n",
              "       'martini', 'danner', 'capelli', 'dumfries', 'nannini', 'berg',\n",
              "       'satoru_nakajima', 'fabre', 'campos', 'caffi', 'tarquini',\n",
              "       'forini', 'larini', 'dalmas', 'sala', 'modena', 'larrauri',\n",
              "       'gugelmin', 'bailey', 'schneider', 'suzuki', 'grouillard',\n",
              "       'raphanel', 'herbert', 'moreno', 'bernard', 'alesi', 'pirro',\n",
              "       'gachot', 'lehto', 'barilla', 'donnelly', 'foitek', 'morbidelli',\n",
              "       'brabham', 'blundell', 'hakkinen', 'comas', 'poele',\n",
              "       'michael_schumacher', 'zanardi', 'wendlinger', 'fittipaldi',\n",
              "       'katayama', 'chiesa', 'belmondo', 'damon_hill', 'naspetti',\n",
              "       'lammers', 'andretti', 'barrichello', 'barbazza', 'badoer',\n",
              "       'apicella', 'lamy', 'irvine', 'gounon', 'toshio_suzuki',\n",
              "       'frentzen', 'verstappen', 'panis', 'beretta', 'ratzenberger',\n",
              "       'coulthard', 'adams', 'schiattarella', 'lagorce', 'noda', 'salo',\n",
              "       'inoue', 'deletraz', 'montermini', 'diniz', 'boullion', 'papis',\n",
              "       'lavaggi', 'magnussen', 'villeneuve', 'marques', 'rosset',\n",
              "       'fisichella', 'ralf_schumacher', 'nakano', 'trulli', 'wurz',\n",
              "       'fontana', 'tuero', 'takagi', 'gene', 'sarrazin', 'rosa', 'zonta',\n",
              "       'button', 'mazzacane', 'heidfeld', 'raikkonen', 'bernoldi',\n",
              "       'burti', 'alonso', 'montoya', 'enge', 'yoong', 'mcnish', 'webber',\n",
              "       'sato', 'massa', 'davidson', 'matta', 'pizzonia', 'wilson',\n",
              "       'firman', 'baumgartner', 'kiesa', 'klien', 'pantano', 'bruni',\n",
              "       'glock', 'karthikeyan', 'friesacher', 'albers', 'monteiro',\n",
              "       'liuzzi', 'doornbos', 'rosberg', 'speed', 'ide', 'montagny',\n",
              "       'kubica', 'yamamoto', 'hamilton', 'kovalainen', 'sutil',\n",
              "       'markus_winkelhock', 'vettel', 'nakajima', 'piquet_jr', 'bourdais',\n",
              "       'buemi', 'alguersuari', 'grosjean', 'kobayashi', 'hulkenberg',\n",
              "       'petrov', 'grassi', 'bruno_senna', 'chandhok', 'perez', 'resta',\n",
              "       'maldonado', 'ambrosio', 'ricciardo', 'vergne', 'pic', 'bottas',\n",
              "       'gutierrez', 'chilton', 'garde', 'jules_bianchi',\n",
              "       'kevin_magnussen', 'kvyat', 'ericsson', 'lotterer', 'stevens',\n",
              "       'sainz', 'nasr', 'max_verstappen', 'merhi', 'rossi',\n",
              "       'jolyon_palmer', 'wehrlein', 'haryanto', 'vandoorne', 'ocon',\n",
              "       'stroll', 'brendon_hartley', 'gasly', 'leclerc', 'sirotkin',\n",
              "       'norris', 'giovinazzi', 'albon', 'russell', 'latifi', 'aitken',\n",
              "       'tsunoda', 'mick_schumacher', 'mazepin'], dtype=object)"
            ]
          },
          "metadata": {},
          "execution_count": 67
        }
      ]
    },
    {
      "cell_type": "code",
      "source": [
        "df2[\"Nacionalidad\"].unique()"
      ],
      "metadata": {
        "colab": {
          "base_uri": "https://localhost:8080/"
        },
        "id": "xjGk_cCd8UUn",
        "outputId": "d50bade0-9e6c-4275-9c49-e9a01b3c676d"
      },
      "execution_count": 68,
      "outputs": [
        {
          "output_type": "execute_result",
          "data": {
            "text/plain": [
              "array(['French', 'British', 'Italian', 'American', 'Austrian',\n",
              "       'Colombian', 'Brazilian', 'Venezuelan', 'Swiss', 'Chilean',\n",
              "       'Finnish', 'Australian', 'German', 'Auto%#', nan, 'Belgian',\n",
              "       'Swedish', 'Dutch', 'Canadian', 'Japanese', 'Spanish', 'Argentine',\n",
              "       'Portuguese', 'Monegasque', 'Danish', 'Czech', 'Malaysian',\n",
              "       'Irish', 'Hungarian', 'Indian', 'Polish', 'Russian', 'Mexican',\n",
              "       'Indonesian', 'New Zealander', 'Thai'], dtype=object)"
            ]
          },
          "metadata": {},
          "execution_count": 68
        }
      ]
    },
    {
      "cell_type": "code",
      "source": [
        "df2[\"Nacionalidad\"].isnull().sum()"
      ],
      "metadata": {
        "colab": {
          "base_uri": "https://localhost:8080/"
        },
        "id": "y_JfPauO8Z8O",
        "outputId": "ba62c396-b290-44cb-c99d-46b1df4af442"
      },
      "execution_count": 69,
      "outputs": [
        {
          "output_type": "execute_result",
          "data": {
            "text/plain": [
              "np.int64(340)"
            ]
          },
          "metadata": {},
          "execution_count": 69
        }
      ]
    },
    {
      "cell_type": "code",
      "source": [
        "df2 = df2[(df2[\"Nacionalidad\"] != \"Auto%#\") & (df2[\"Nacionalidad\"].notna())]\n"
      ],
      "metadata": {
        "id": "5-qsD0JK8fGA"
      },
      "execution_count": 71,
      "outputs": []
    },
    {
      "cell_type": "code",
      "source": [
        "df2[\"Nacionalidad\"].unique()"
      ],
      "metadata": {
        "colab": {
          "base_uri": "https://localhost:8080/"
        },
        "id": "tfG-I7Kp8rwH",
        "outputId": "b5485aa5-c35d-407a-9221-bd9b6c8b18c2"
      },
      "execution_count": 72,
      "outputs": [
        {
          "output_type": "execute_result",
          "data": {
            "text/plain": [
              "array(['French', 'British', 'Italian', 'American', 'Austrian',\n",
              "       'Colombian', 'Brazilian', 'Venezuelan', 'Swiss', 'Chilean',\n",
              "       'Finnish', 'Australian', 'German', 'Belgian', 'Swedish', 'Dutch',\n",
              "       'Canadian', 'Japanese', 'Spanish', 'Argentine', 'Portuguese',\n",
              "       'Monegasque', 'Danish', 'Czech', 'Malaysian', 'Irish', 'Hungarian',\n",
              "       'Indian', 'Polish', 'Russian', 'Mexican', 'Indonesian',\n",
              "       'New Zealander', 'Thai'], dtype=object)"
            ]
          },
          "metadata": {},
          "execution_count": 72
        }
      ]
    },
    {
      "cell_type": "code",
      "source": [
        "df2[\"Constructores\"].unique()"
      ],
      "metadata": {
        "colab": {
          "base_uri": "https://localhost:8080/"
        },
        "id": "o9CDemmt8uhP",
        "outputId": "8a7e9d70-cd7a-4860-db4f-bd74c6b7a4f6"
      },
      "execution_count": 74,
      "outputs": [
        {
          "output_type": "execute_result",
          "data": {
            "text/plain": [
              "array(['renault', 'toleman', 'ferrari', nan, 'mclaren', 'ligier',\n",
              "       'theodore', 'williams', 'arrows', 'tyrrell', 'team_lotus',\n",
              "       'Auto%#', 'ram', 'alfa', 'ats', 'brabham', 'osella', 'spirit',\n",
              "       'minardi', 'zakspeed', 'lola', 'benetton', 'ags', 'march',\n",
              "       'larrousse', 'coloni', 'rial', 'eurobrun', 'dallara', 'onyx',\n",
              "       'leyton', 'lambo', 'footwork', 'jordan', 'fondmetal', 'moda',\n",
              "       'sauber', 'simtek', 'pacific', 'forti', 'prost', 'stewart', 'bar',\n",
              "       'jaguar', 'toyota', 'red_bull', 'honda', 'bmw_sauber',\n",
              "       'toro_rosso', 'mf1', 'super_aguri', 'spyker_mf1', 'spyker',\n",
              "       'force_india', 'brawn', 'mercedes', 'lotus_racing', 'virgin',\n",
              "       'hrt', 'lotus_f1', 'caterham', 'marussia', 'manor', 'haas',\n",
              "       'racing_point', 'alphatauri', 'alpine', 'aston_martin'],\n",
              "      dtype=object)"
            ]
          },
          "metadata": {},
          "execution_count": 74
        }
      ]
    },
    {
      "cell_type": "code",
      "source": [
        "df2[\"Constructores\"].isnull().sum()"
      ],
      "metadata": {
        "colab": {
          "base_uri": "https://localhost:8080/"
        },
        "id": "0O920mEL89-m",
        "outputId": "db4184b9-f2aa-4b39-eae6-b8883de18d5b"
      },
      "execution_count": 75,
      "outputs": [
        {
          "output_type": "execute_result",
          "data": {
            "text/plain": [
              "np.int64(324)"
            ]
          },
          "metadata": {},
          "execution_count": 75
        }
      ]
    },
    {
      "cell_type": "code",
      "source": [
        "df2 = df2[df2[\"Constructores\"] != \"Auto%#\"]\n"
      ],
      "metadata": {
        "id": "J_vv4qvA8-M3"
      },
      "execution_count": 77,
      "outputs": []
    },
    {
      "cell_type": "code",
      "source": [
        "df2[\"Constructores\"].unique()"
      ],
      "metadata": {
        "colab": {
          "base_uri": "https://localhost:8080/"
        },
        "id": "aWmtTkUk9FdA",
        "outputId": "4c61e085-fafc-40ed-85a2-dbe7d68af689"
      },
      "execution_count": 78,
      "outputs": [
        {
          "output_type": "execute_result",
          "data": {
            "text/plain": [
              "array(['renault', 'toleman', 'ferrari', nan, 'mclaren', 'ligier',\n",
              "       'theodore', 'williams', 'arrows', 'tyrrell', 'team_lotus', 'ram',\n",
              "       'alfa', 'ats', 'brabham', 'osella', 'spirit', 'minardi',\n",
              "       'zakspeed', 'lola', 'benetton', 'ags', 'march', 'larrousse',\n",
              "       'coloni', 'rial', 'eurobrun', 'dallara', 'onyx', 'leyton', 'lambo',\n",
              "       'footwork', 'jordan', 'fondmetal', 'moda', 'sauber', 'simtek',\n",
              "       'pacific', 'forti', 'prost', 'stewart', 'bar', 'jaguar', 'toyota',\n",
              "       'red_bull', 'honda', 'bmw_sauber', 'toro_rosso', 'mf1',\n",
              "       'super_aguri', 'spyker_mf1', 'spyker', 'force_india', 'brawn',\n",
              "       'mercedes', 'lotus_racing', 'virgin', 'hrt', 'lotus_f1',\n",
              "       'caterham', 'marussia', 'manor', 'haas', 'racing_point',\n",
              "       'alphatauri', 'alpine', 'aston_martin'], dtype=object)"
            ]
          },
          "metadata": {},
          "execution_count": 78
        }
      ]
    },
    {
      "cell_type": "code",
      "source": [
        "df2[\"Grilla\"].unique()"
      ],
      "metadata": {
        "colab": {
          "base_uri": "https://localhost:8080/"
        },
        "id": "wqb5Hm2M9aAh",
        "outputId": "60d56d10-8ad2-46cf-c6dd-38801646ad9f"
      },
      "execution_count": 80,
      "outputs": [
        {
          "output_type": "execute_result",
          "data": {
            "text/plain": [
              "array(['2', '5', '6', '7', '8', '9', '12', '14', '16', '17', '18', '19',\n",
              "       '20', '21', '22', '26', '1', '3', '4', '10', nan, '15', '24', '25',\n",
              "       '23', '11', 'Auto%#', '13', '27'], dtype=object)"
            ]
          },
          "metadata": {},
          "execution_count": 80
        }
      ]
    },
    {
      "cell_type": "code",
      "source": [
        "df2[\"Grilla\"].isnull().sum()"
      ],
      "metadata": {
        "colab": {
          "base_uri": "https://localhost:8080/"
        },
        "id": "a7bKdbgU9dKI",
        "outputId": "9ee39fea-9e2c-4929-cb5a-799b51f71da6"
      },
      "execution_count": 82,
      "outputs": [
        {
          "output_type": "execute_result",
          "data": {
            "text/plain": [
              "np.int64(328)"
            ]
          },
          "metadata": {},
          "execution_count": 82
        }
      ]
    },
    {
      "cell_type": "code",
      "source": [
        "df2 = df2[(df2[\"Grilla\"] != \"Auto%#\") & (df2[\"Grilla\"].notna())]\n"
      ],
      "metadata": {
        "id": "QDHhws839dbc"
      },
      "execution_count": 83,
      "outputs": []
    },
    {
      "cell_type": "code",
      "source": [
        "df2[\"Grilla\"].unique()"
      ],
      "metadata": {
        "colab": {
          "base_uri": "https://localhost:8080/"
        },
        "id": "2VX-iBDJ9dd0",
        "outputId": "ebca7a39-06a9-4822-d62b-48aa810585ec"
      },
      "execution_count": 84,
      "outputs": [
        {
          "output_type": "execute_result",
          "data": {
            "text/plain": [
              "array(['2', '5', '6', '7', '8', '9', '12', '14', '16', '17', '18', '19',\n",
              "       '20', '21', '22', '26', '1', '3', '4', '10', '15', '24', '25',\n",
              "       '23', '11', '13', '27'], dtype=object)"
            ]
          },
          "metadata": {},
          "execution_count": 84
        }
      ]
    },
    {
      "cell_type": "code",
      "source": [
        "df2[\"Podio\"].unique()"
      ],
      "metadata": {
        "colab": {
          "base_uri": "https://localhost:8080/"
        },
        "id": "ZsJCVQP09-Xf",
        "outputId": "7c9cb160-e3e8-4278-f72a-ef7901d8db45"
      },
      "execution_count": 85,
      "outputs": [
        {
          "output_type": "execute_result",
          "data": {
            "text/plain": [
              "array(['6', '7', '9', '23', '18', '2', '22', '17', '19', '20', '3', '12',\n",
              "       '5', '10', '11', '13', '4', '14', '16', '21', '1', '26', '24', '8',\n",
              "       '25', 'Auto%#', '15', nan, '27'], dtype=object)"
            ]
          },
          "metadata": {},
          "execution_count": 85
        }
      ]
    },
    {
      "cell_type": "code",
      "source": [
        "df2[\"Podio\"].isnull().sum()"
      ],
      "metadata": {
        "colab": {
          "base_uri": "https://localhost:8080/"
        },
        "id": "7cHO5G-t-Czu",
        "outputId": "c78a1364-3009-4351-ad80-25d8466d8881"
      },
      "execution_count": 86,
      "outputs": [
        {
          "output_type": "execute_result",
          "data": {
            "text/plain": [
              "np.int64(315)"
            ]
          },
          "metadata": {},
          "execution_count": 86
        }
      ]
    },
    {
      "cell_type": "code",
      "source": [
        "df2 = df2[(df2[\"Podio\"] != \"Auto%#\") & (df2[\"Podio\"].notna())]\n"
      ],
      "metadata": {
        "id": "8lNWI8Sh-GbM"
      },
      "execution_count": 87,
      "outputs": []
    },
    {
      "cell_type": "code",
      "source": [
        "df2[\"Podio\"].unique()"
      ],
      "metadata": {
        "colab": {
          "base_uri": "https://localhost:8080/"
        },
        "id": "wZPrzBqz-Ml4",
        "outputId": "e7dae696-f048-4008-f760-e2f92ade4980"
      },
      "execution_count": 88,
      "outputs": [
        {
          "output_type": "execute_result",
          "data": {
            "text/plain": [
              "array(['6', '7', '9', '23', '18', '2', '22', '17', '19', '20', '3', '12',\n",
              "       '5', '10', '11', '13', '4', '14', '16', '21', '1', '26', '24', '8',\n",
              "       '25', '15', '27'], dtype=object)"
            ]
          },
          "metadata": {},
          "execution_count": 88
        }
      ]
    },
    {
      "cell_type": "code",
      "source": [
        "df2[\"Puntos_piloto\"].unique()"
      ],
      "metadata": {
        "colab": {
          "base_uri": "https://localhost:8080/"
        },
        "id": "k4B2YADb-OMS",
        "outputId": "c194591d-7915-4907-9af6-9853ecd1ea87"
      },
      "execution_count": 95,
      "outputs": [
        {
          "output_type": "execute_result",
          "data": {
            "text/plain": [
              "array([  0.,   2.,   3.,   1.,   4.,  10.,   9.,   6.,  15.,   5.,   8.,\n",
              "         7.,  19.,  14.,  16.,  11.,  28.,  27.,  23.,  22.,  17.,  30.,\n",
              "        33.,  39.,  25.,  42.,  37.,  31.,  51.,  34.,  18.,  43.,  12.,\n",
              "        46.,  40.,  21.,  55.,  49.,  13.,  24.,  29.,  32.,  63.,  20.,\n",
              "        35.,  26.,  53.,  65.,  38.,  36.,  47.,  44.,  48.,  61.,  56.,\n",
              "        70.,  59.,  64.,  41.,  67.,  52.,  73.,  57.,  54.,  60.,  66.,\n",
              "        75.,  72.,  76.,  79.,  84.,  87.,  71.,  50.,  78.,  69.,  77.,\n",
              "        85.,  91.,  86.,  98., 108.,  45.,  58.,  62.,  93.,  81.,  82.,\n",
              "        68.,  74.,  80.,  88.,  94., 113., 106.,  83.,  90., 100., 120.,\n",
              "       136., 111., 117., 123., 104.,  89.,  96., 116.,  97., 107.,  95.,\n",
              "       103., 109., 115., 127., 133., 157., 143., 161., 147., 141., 151.,\n",
              "       166., 163., 165., 187., 112., 181., 202., 114., 191., 177., 122.,\n",
              "       182., 128., 206., 210., 231., 189., 222., 246., 130., 118., 101.,\n",
              "       186., 204., 216., 139., 146., 134., 259., 149., 167., 185., 168.,\n",
              "       184., 178., 194., 209., 374., 240., 221., 227., 233., 255.,  92.,\n",
              "       110., 154., 124., 131., 164., 132., 142., 140., 179., 152., 215.,\n",
              "       153., 198., 245.,  99., 105., 197., 247., 272., 297., 126., 148.,\n",
              "       322., 144., 169., 102., 207., 347., 175., 372., 190., 220., 121.,\n",
              "       156., 238., 266., 256., 193., 274., 291., 145., 292., 155., 317.,\n",
              "       334., 160., 199., 211., 229., 302., 236., 345., 251., 135., 217.,\n",
              "       232., 248., 250., 129., 288., 265., 280., 331., 330., 349., 355.,\n",
              "       171., 188., 235., 263., 212., 281., 138., 306., 234., 192., 244.,\n",
              "       262., 200., 158., 214., 226., 159., 241., 264., 276., 358., 294.,\n",
              "       162., 225., 268., 296., 249., 338., 289., 363., 230., 381., 387.,\n",
              "       314., 205., 170., 119., 284.])"
            ]
          },
          "metadata": {},
          "execution_count": 95
        }
      ]
    },
    {
      "cell_type": "code",
      "source": [
        "df2[\"Puntos_piloto\"].isnull().sum()"
      ],
      "metadata": {
        "colab": {
          "base_uri": "https://localhost:8080/"
        },
        "id": "7CS4Hy3v-Vh5",
        "outputId": "1a16dd24-e4c3-4195-bf24-85b2e3f62760"
      },
      "execution_count": 96,
      "outputs": [
        {
          "output_type": "execute_result",
          "data": {
            "text/plain": [
              "np.int64(0)"
            ]
          },
          "metadata": {},
          "execution_count": 96
        }
      ]
    },
    {
      "cell_type": "code",
      "source": [
        "df2 = df2[df2[\"Puntos_piloto\"].notna()]\n"
      ],
      "metadata": {
        "id": "Zv8gpOoP-Ypv"
      },
      "execution_count": 97,
      "outputs": []
    },
    {
      "cell_type": "code",
      "source": [
        "df2[\"Puntos_piloto\"].unique()"
      ],
      "metadata": {
        "colab": {
          "base_uri": "https://localhost:8080/"
        },
        "id": "LPEEDIYQ-i01",
        "outputId": "4570e2e1-baf3-46d5-f05b-beeb48cc8b5e"
      },
      "execution_count": 98,
      "outputs": [
        {
          "output_type": "execute_result",
          "data": {
            "text/plain": [
              "array([  0.,   2.,   3.,   1.,   4.,  10.,   9.,   6.,  15.,   5.,   8.,\n",
              "         7.,  19.,  14.,  16.,  11.,  28.,  27.,  23.,  22.,  17.,  30.,\n",
              "        33.,  39.,  25.,  42.,  37.,  31.,  51.,  34.,  18.,  43.,  12.,\n",
              "        46.,  40.,  21.,  55.,  49.,  13.,  24.,  29.,  32.,  63.,  20.,\n",
              "        35.,  26.,  53.,  65.,  38.,  36.,  47.,  44.,  48.,  61.,  56.,\n",
              "        70.,  59.,  64.,  41.,  67.,  52.,  73.,  57.,  54.,  60.,  66.,\n",
              "        75.,  72.,  76.,  79.,  84.,  87.,  71.,  50.,  78.,  69.,  77.,\n",
              "        85.,  91.,  86.,  98., 108.,  45.,  58.,  62.,  93.,  81.,  82.,\n",
              "        68.,  74.,  80.,  88.,  94., 113., 106.,  83.,  90., 100., 120.,\n",
              "       136., 111., 117., 123., 104.,  89.,  96., 116.,  97., 107.,  95.,\n",
              "       103., 109., 115., 127., 133., 157., 143., 161., 147., 141., 151.,\n",
              "       166., 163., 165., 187., 112., 181., 202., 114., 191., 177., 122.,\n",
              "       182., 128., 206., 210., 231., 189., 222., 246., 130., 118., 101.,\n",
              "       186., 204., 216., 139., 146., 134., 259., 149., 167., 185., 168.,\n",
              "       184., 178., 194., 209., 374., 240., 221., 227., 233., 255.,  92.,\n",
              "       110., 154., 124., 131., 164., 132., 142., 140., 179., 152., 215.,\n",
              "       153., 198., 245.,  99., 105., 197., 247., 272., 297., 126., 148.,\n",
              "       322., 144., 169., 102., 207., 347., 175., 372., 190., 220., 121.,\n",
              "       156., 238., 266., 256., 193., 274., 291., 145., 292., 155., 317.,\n",
              "       334., 160., 199., 211., 229., 302., 236., 345., 251., 135., 217.,\n",
              "       232., 248., 250., 129., 288., 265., 280., 331., 330., 349., 355.,\n",
              "       171., 188., 235., 263., 212., 281., 138., 306., 234., 192., 244.,\n",
              "       262., 200., 158., 214., 226., 159., 241., 264., 276., 358., 294.,\n",
              "       162., 225., 268., 296., 249., 338., 289., 363., 230., 381., 387.,\n",
              "       314., 205., 170., 119., 284.])"
            ]
          },
          "metadata": {},
          "execution_count": 98
        }
      ]
    },
    {
      "cell_type": "code",
      "source": [
        "df2[\"Puntos_piloto\"].unique()"
      ],
      "metadata": {
        "colab": {
          "base_uri": "https://localhost:8080/"
        },
        "id": "xEtqb2LM-k3q",
        "outputId": "f3ecb8c0-d7ed-4849-96c4-76246c8933d7"
      },
      "execution_count": 99,
      "outputs": [
        {
          "output_type": "execute_result",
          "data": {
            "text/plain": [
              "array([  0.,   2.,   3.,   1.,   4.,  10.,   9.,   6.,  15.,   5.,   8.,\n",
              "         7.,  19.,  14.,  16.,  11.,  28.,  27.,  23.,  22.,  17.,  30.,\n",
              "        33.,  39.,  25.,  42.,  37.,  31.,  51.,  34.,  18.,  43.,  12.,\n",
              "        46.,  40.,  21.,  55.,  49.,  13.,  24.,  29.,  32.,  63.,  20.,\n",
              "        35.,  26.,  53.,  65.,  38.,  36.,  47.,  44.,  48.,  61.,  56.,\n",
              "        70.,  59.,  64.,  41.,  67.,  52.,  73.,  57.,  54.,  60.,  66.,\n",
              "        75.,  72.,  76.,  79.,  84.,  87.,  71.,  50.,  78.,  69.,  77.,\n",
              "        85.,  91.,  86.,  98., 108.,  45.,  58.,  62.,  93.,  81.,  82.,\n",
              "        68.,  74.,  80.,  88.,  94., 113., 106.,  83.,  90., 100., 120.,\n",
              "       136., 111., 117., 123., 104.,  89.,  96., 116.,  97., 107.,  95.,\n",
              "       103., 109., 115., 127., 133., 157., 143., 161., 147., 141., 151.,\n",
              "       166., 163., 165., 187., 112., 181., 202., 114., 191., 177., 122.,\n",
              "       182., 128., 206., 210., 231., 189., 222., 246., 130., 118., 101.,\n",
              "       186., 204., 216., 139., 146., 134., 259., 149., 167., 185., 168.,\n",
              "       184., 178., 194., 209., 374., 240., 221., 227., 233., 255.,  92.,\n",
              "       110., 154., 124., 131., 164., 132., 142., 140., 179., 152., 215.,\n",
              "       153., 198., 245.,  99., 105., 197., 247., 272., 297., 126., 148.,\n",
              "       322., 144., 169., 102., 207., 347., 175., 372., 190., 220., 121.,\n",
              "       156., 238., 266., 256., 193., 274., 291., 145., 292., 155., 317.,\n",
              "       334., 160., 199., 211., 229., 302., 236., 345., 251., 135., 217.,\n",
              "       232., 248., 250., 129., 288., 265., 280., 331., 330., 349., 355.,\n",
              "       171., 188., 235., 263., 212., 281., 138., 306., 234., 192., 244.,\n",
              "       262., 200., 158., 214., 226., 159., 241., 264., 276., 358., 294.,\n",
              "       162., 225., 268., 296., 249., 338., 289., 363., 230., 381., 387.,\n",
              "       314., 205., 170., 119., 284.])"
            ]
          },
          "metadata": {},
          "execution_count": 99
        }
      ]
    },
    {
      "cell_type": "code",
      "source": [
        "df2[\"Victorias_piloto\"].unique()"
      ],
      "metadata": {
        "colab": {
          "base_uri": "https://localhost:8080/"
        },
        "id": "zmeu9wvB__lg",
        "outputId": "ecc8c708-2ecb-43ec-d18d-894f02517cd9"
      },
      "execution_count": 101,
      "outputs": [
        {
          "output_type": "execute_result",
          "data": {
            "text/plain": [
              "array([ 0., nan,  1.,  2.,  3.,  4.,  5.,  6.,  7.,  8.,  9., 10., 12.,\n",
              "       11., 13.])"
            ]
          },
          "metadata": {},
          "execution_count": 101
        }
      ]
    },
    {
      "cell_type": "code",
      "source": [
        "df2[\"Victorias_piloto\"].isnull().sum()"
      ],
      "metadata": {
        "colab": {
          "base_uri": "https://localhost:8080/"
        },
        "id": "P1R_57xnAEXa",
        "outputId": "d4891515-257e-40ef-e45c-66d9754d2357"
      },
      "execution_count": 104,
      "outputs": [
        {
          "output_type": "execute_result",
          "data": {
            "text/plain": [
              "np.int64(289)"
            ]
          },
          "metadata": {},
          "execution_count": 104
        }
      ]
    },
    {
      "cell_type": "code",
      "source": [
        "df2 = df2[df2[\"Victorias_piloto\"].notna()]\n"
      ],
      "metadata": {
        "id": "Up3sM6IbAEex"
      },
      "execution_count": 105,
      "outputs": []
    },
    {
      "cell_type": "code",
      "source": [
        "df2[\"Victorias_piloto\"].unique()"
      ],
      "metadata": {
        "colab": {
          "base_uri": "https://localhost:8080/"
        },
        "id": "bFqRRtocAKme",
        "outputId": "4a18b638-4dd1-4170-929f-84287cb217a6"
      },
      "execution_count": 106,
      "outputs": [
        {
          "output_type": "execute_result",
          "data": {
            "text/plain": [
              "array([ 0.,  1.,  2.,  3.,  4.,  5.,  6.,  7.,  8.,  9., 10., 12., 11.,\n",
              "       13.])"
            ]
          },
          "metadata": {},
          "execution_count": 106
        }
      ]
    },
    {
      "cell_type": "code",
      "source": [
        "df2[\"Posicion_piloto\"].unique()"
      ],
      "metadata": {
        "colab": {
          "base_uri": "https://localhost:8080/"
        },
        "id": "8Oik7DTIAb8J",
        "outputId": "105ac80e-8d5a-4c92-d1fc-6e4bead18b36"
      },
      "execution_count": 107,
      "outputs": [
        {
          "output_type": "execute_result",
          "data": {
            "text/plain": [
              "array([ 0.,  4.,  9.,  3., 24., 20., 16.,  5., 12., 15., 25., 19., 17.,\n",
              "       14., 13., nan, 23., 21., 26.,  1., 22., 28., 11., 10.,  7.,  6.,\n",
              "        8.,  2., 18., 27., 29., 30.])"
            ]
          },
          "metadata": {},
          "execution_count": 107
        }
      ]
    },
    {
      "cell_type": "code",
      "source": [
        "df2[\"Posicion_piloto\"].isnull().sum()"
      ],
      "metadata": {
        "colab": {
          "base_uri": "https://localhost:8080/"
        },
        "id": "BfNa62COAf1y",
        "outputId": "48ca64cc-96f5-4047-c05b-b01abc027338"
      },
      "execution_count": 108,
      "outputs": [
        {
          "output_type": "execute_result",
          "data": {
            "text/plain": [
              "np.int64(446)"
            ]
          },
          "metadata": {},
          "execution_count": 108
        }
      ]
    },
    {
      "cell_type": "code",
      "source": [
        "df2 = df2[df2[\"Posicion_piloto\"].notna()]\n"
      ],
      "metadata": {
        "id": "JG3odSJ-Af4r"
      },
      "execution_count": 109,
      "outputs": []
    },
    {
      "cell_type": "code",
      "source": [
        "df2[\"Posicion_piloto\"].unique()"
      ],
      "metadata": {
        "colab": {
          "base_uri": "https://localhost:8080/"
        },
        "id": "WUOV5dZTAf_U",
        "outputId": "f304ff2d-c1fb-4ec1-f8f5-04d1a7aea5b7"
      },
      "execution_count": 110,
      "outputs": [
        {
          "output_type": "execute_result",
          "data": {
            "text/plain": [
              "array([ 0.,  4.,  9.,  3., 24., 20., 16.,  5., 12., 15., 25., 19., 17.,\n",
              "       14., 13., 23., 21., 26.,  1., 22., 28., 11., 10.,  7.,  6.,  8.,\n",
              "        2., 18., 27., 29., 30.])"
            ]
          },
          "metadata": {},
          "execution_count": 110
        }
      ]
    },
    {
      "cell_type": "code",
      "source": [
        "df2[\"Puntos_constructores\"].unique()"
      ],
      "metadata": {
        "colab": {
          "base_uri": "https://localhost:8080/"
        },
        "id": "lKSPBvd8Apy-",
        "outputId": "28d9c7f5-8243-4357-8763-00dc85305ca7"
      },
      "execution_count": 111,
      "outputs": [
        {
          "output_type": "execute_result",
          "data": {
            "text/plain": [
              "array([  0.,   2.,   3.,   1.,   4.,   6.,  19.,   9.,  15.,  13.,  22.,\n",
              "        nan,  23.,  21.,  24.,  31.,  36.,  27.,  32.,  11.,  25.,  44.,\n",
              "        26.,  53.,  33.,  35.,  59.,  37.,  56.,   7.,  29.,  41.,  65.,\n",
              "        68.,  30.,  80.,  34.,  12.,   8.,  50.,  89.,  72.,  10.,  17.,\n",
              "         5.,  38.,  45.,  16.,  47.,  55.,  43.,  49.,  75.,  70.,  79.,\n",
              "        54.,  63.,  77.,  83.,  71.,  62.,  18.,  46.,  48.,  61.,  60.,\n",
              "        42.,  28., 102., 117., 130.,  81., 135.,  57.,  87.,  69.,  78.,\n",
              "        93.,  51.,  20., 110., 122., 137.,  76.,  64., 132., 147., 157.,\n",
              "       169., 184.,  98.,  52., 128., 141.,  14.,  96.,  40., 109., 118.,\n",
              "       100.,  67.,  99., 108., 114., 116.,  58.,  74.,  84., 126., 142.,\n",
              "       144.,  73., 154.,  85.,  39., 129., 139., 149.,  95.,  97., 103.,\n",
              "        94., 104., 133., 101., 111., 165.,  86.,  90.,  92., 125., 106.,\n",
              "        66.,  82.,  88., 127., 143., 153., 156., 140., 167., 205., 121.,\n",
              "       120., 124., 158., 174.,  91., 202., 216., 244., 105., 136., 152.,\n",
              "       146., 164., 176., 131., 160., 168., 178., 179., 138., 119., 148.,\n",
              "       192., 161., 170., 186., 210., 113., 134., 145., 112., 171., 193.,\n",
              "       215., 218., 248., 272., 208., 300., 312., 304., 329., 250., 330.,\n",
              "       123., 290., 350., 347., 383., 319., 359., 334., 399., 374., 188.,\n",
              "       421., 389., 185., 255., 295., 355., 243., 280., 426., 231., 451.,\n",
              "       325., 254., 353., 268., 491., 388., 518., 558., 595., 442., 607.,\n",
              "       482., 230., 177., 246., 207., 199., 226., 217., 297., 324., 283.,\n",
              "       263., 239., 367., 284., 306., 407., 316., 288., 340., 440., 201.,\n",
              "       219., 183., 180., 277., 187., 352., 191., 245., 377., 267., 206.,\n",
              "       402., 445., 287., 264., 470., 313., 285., 309., 513., 323., 553.,\n",
              "       348., 315., 197., 240., 301., 366., 393., 411., 150., 454., 162.,\n",
              "       479., 522., 332., 565., 608., 238., 196., 651., 159., 242., 371.,\n",
              "       151., 236., 270., 310., 506., 531., 220., 574., 617., 172., 401.,\n",
              "       253., 223., 258., 335., 378., 224., 415., 455., 252., 274., 498.,\n",
              "       279., 636., 400., 679., 365., 427., 446., 375., 163., 222., 214.,\n",
              "       275., 357., 373., 212., 435., 475., 503., 385., 540., 395., 303.,\n",
              "       575., 428., 175., 625., 495., 358., 107., 189., 237., 247., 345.,\n",
              "       360., 390., 452., 538., 460., 337., 563., 585., 530., 362., 392.,\n",
              "       173., 198., 338., 363., 228., 409., 261., 438., 471., 351., 505.,\n",
              "       266., 394., 527., 571., 612., 652., 466., 695., 701., 221., 281.,\n",
              "       391., 211., 504., 533., 282., 194., 289., 115., 292., 302., 326.,\n",
              "       469.])"
            ]
          },
          "metadata": {},
          "execution_count": 111
        }
      ]
    },
    {
      "cell_type": "code",
      "source": [
        "df2[\"Puntos_constructores\"].isnull().sum()"
      ],
      "metadata": {
        "colab": {
          "base_uri": "https://localhost:8080/"
        },
        "id": "BoDfdvCBEEXA",
        "outputId": "d4d67426-ccf5-4470-8ec9-e3a1aa923a6f"
      },
      "execution_count": 142,
      "outputs": [
        {
          "output_type": "execute_result",
          "data": {
            "text/plain": [
              "np.int64(241)"
            ]
          },
          "metadata": {},
          "execution_count": 142
        }
      ]
    },
    {
      "cell_type": "code",
      "source": [
        "df2 = df2[df2[\"Puntos_constructores\"].notna()]"
      ],
      "metadata": {
        "id": "a8Lfk0HHEJyq"
      },
      "execution_count": 143,
      "outputs": []
    },
    {
      "cell_type": "code",
      "source": [
        "df2[\"Puntos_constructores\"].unique()"
      ],
      "metadata": {
        "colab": {
          "base_uri": "https://localhost:8080/"
        },
        "id": "-UbQKKWOERiH",
        "outputId": "b700ce8d-2bf2-4035-8bfa-8c192e69d151"
      },
      "execution_count": 144,
      "outputs": [
        {
          "output_type": "execute_result",
          "data": {
            "text/plain": [
              "array([  0.,   2.,   3.,   1.,   4.,   6.,  19.,   9.,  15.,  13.,  22.,\n",
              "        23.,  21.,  24.,  31.,  36.,  27.,  32.,  11.,  25.,  44.,  26.,\n",
              "        53.,  35.,  59.,  37.,  56.,   7.,  29.,  41.,  68.,  65.,  80.,\n",
              "        34.,  12.,   8.,  50.,  89.,  72.,  10.,  17.,   5.,  38.,  33.,\n",
              "        45.,  16.,  47.,  55.,  43.,  49.,  79.,  54.,  77.,  83.,  71.,\n",
              "        62.,  18.,  46.,  48.,  60.,  63.,  42.,  28., 102., 117.,  75.,\n",
              "       130.,  81., 135.,  57.,  87.,  30.,  69.,  78.,  93.,  51.,  20.,\n",
              "       110., 122., 137.,  76.,  64., 132., 147., 157., 169., 184.,  98.,\n",
              "        52., 128., 141.,  14.,  96.,  40., 109., 118., 100.,  70.,  99.,\n",
              "       108., 114., 116.,  58.,  74.,  84., 142., 144.,  73., 154.,  85.,\n",
              "       129., 139., 149.,  67.,  95.,  97., 103.,  94., 133., 101.,  61.,\n",
              "       165.,  86.,  39.,  90.,  92., 106.,  66.,  82.,  88., 127., 143.,\n",
              "       140., 167., 205., 121., 120., 124., 174.,  91., 202., 216., 244.,\n",
              "       105., 136., 152., 146., 164., 176., 131., 158., 168., 178., 179.,\n",
              "       138., 111., 119., 148., 192., 161., 170., 186., 210., 113., 134.,\n",
              "       112., 126., 153., 156., 171., 193., 215., 218., 248., 272., 208.,\n",
              "       300., 312., 304., 329., 250., 330., 123., 347., 350., 383., 319.,\n",
              "       359., 334., 399., 374., 188., 421., 389., 145., 185., 255., 295.,\n",
              "       243., 280., 426., 231., 451., 325., 254., 353., 268., 491., 388.,\n",
              "       518., 558., 442., 595., 607., 482., 160., 177., 230., 246., 207.,\n",
              "       199., 226., 217., 297., 324., 283., 263., 239., 367., 284., 306.,\n",
              "       407., 316., 288., 340., 440., 201., 219., 183., 180., 277., 187.,\n",
              "       352., 191., 245., 377., 267., 206., 287., 264., 470., 313., 285.,\n",
              "       309., 513., 553., 348., 315., 197., 301., 366., 393., 411., 454.,\n",
              "       162., 479., 522., 332., 565., 608., 238., 196., 651., 159., 242.,\n",
              "       104., 371., 151., 270., 310., 506., 531., 574., 150., 617., 172.,\n",
              "       401., 253., 223., 258., 335., 378., 224., 415., 455., 252., 274.,\n",
              "       498., 290., 279., 636., 400., 679., 365., 446., 375., 163., 214.,\n",
              "       275., 357., 373., 212., 435., 475., 503., 540., 395., 303., 575.,\n",
              "       428., 175., 625., 495., 358., 107., 189., 237., 247., 345., 360.,\n",
              "       390., 452., 538., 460., 337., 585., 530., 362., 392., 173., 338.,\n",
              "       363., 409., 438., 471., 351., 505., 266., 394., 527., 571., 612.,\n",
              "       323., 652., 466., 695., 701., 221., 281., 391., 211., 240., 533.,\n",
              "       282., 194., 289., 115., 220., 292., 222., 302., 385., 326., 469.])"
            ]
          },
          "metadata": {},
          "execution_count": 144
        }
      ]
    },
    {
      "cell_type": "code",
      "source": [
        "df2[\"Victorias_constructores\"].unique()"
      ],
      "metadata": {
        "colab": {
          "base_uri": "https://localhost:8080/"
        },
        "id": "gJCR5UtwAu7e",
        "outputId": "2bac82c6-bc17-427e-e5da-424d87230ec2"
      },
      "execution_count": 112,
      "outputs": [
        {
          "output_type": "execute_result",
          "data": {
            "text/plain": [
              "array([ 0., nan,  1.,  2.,  3.,  4.,  5.,  6.,  7.,  8.,  9., 10., 11.,\n",
              "       12., 13., 14., 15., 16., 17., 18.])"
            ]
          },
          "metadata": {},
          "execution_count": 112
        }
      ]
    },
    {
      "cell_type": "code",
      "source": [
        "df2[\"Victorias_constructores\"].isnull().sum()"
      ],
      "metadata": {
        "colab": {
          "base_uri": "https://localhost:8080/"
        },
        "id": "fE_rpUJdA4bk",
        "outputId": "a07013c1-ff69-4ab1-f7d3-32f5a94c4943"
      },
      "execution_count": 113,
      "outputs": [
        {
          "output_type": "execute_result",
          "data": {
            "text/plain": [
              "np.int64(289)"
            ]
          },
          "metadata": {},
          "execution_count": 113
        }
      ]
    },
    {
      "cell_type": "code",
      "source": [
        "df2 = df2[df2[\"Victorias_constructores\"].notna()]\n"
      ],
      "metadata": {
        "id": "eZsEJUb-A4lq"
      },
      "execution_count": 114,
      "outputs": []
    },
    {
      "cell_type": "code",
      "source": [
        "df2[\"Victorias_constructores\"].unique()"
      ],
      "metadata": {
        "colab": {
          "base_uri": "https://localhost:8080/"
        },
        "id": "_6fnKaIUA4tL",
        "outputId": "1a1d3da2-49c1-49a4-bfe4-c25565079000"
      },
      "execution_count": 115,
      "outputs": [
        {
          "output_type": "execute_result",
          "data": {
            "text/plain": [
              "array([ 0.,  1.,  2.,  3.,  4.,  5.,  6.,  7.,  8.,  9., 10., 11., 12.,\n",
              "       13., 14., 15., 16., 17., 18.])"
            ]
          },
          "metadata": {},
          "execution_count": 115
        }
      ]
    },
    {
      "cell_type": "code",
      "source": [
        "df2[\"Constructores_posicion\"].unique()"
      ],
      "metadata": {
        "colab": {
          "base_uri": "https://localhost:8080/"
        },
        "id": "PvAmqX5uBDTa",
        "outputId": "e18151f7-f2a7-4577-b608-2482aff3958e"
      },
      "execution_count": 116,
      "outputs": [
        {
          "output_type": "execute_result",
          "data": {
            "text/plain": [
              "array(['0', '4', '3', '8', '13', '5', '6', '10', '14', '2', nan, '11',\n",
              "       '1', '9', 'Auto%#', '12', '7', '15', '16', '17', '18', '19', '20'],\n",
              "      dtype=object)"
            ]
          },
          "metadata": {},
          "execution_count": 116
        }
      ]
    },
    {
      "cell_type": "code",
      "source": [
        "df2[\"Constructores_posicion\"].isnull().sum()"
      ],
      "metadata": {
        "colab": {
          "base_uri": "https://localhost:8080/"
        },
        "id": "uqOV4KBPBDiq",
        "outputId": "4b2ed3ec-63fc-4fd6-b027-3a4f925d26ae"
      },
      "execution_count": 118,
      "outputs": [
        {
          "output_type": "execute_result",
          "data": {
            "text/plain": [
              "np.int64(254)"
            ]
          },
          "metadata": {},
          "execution_count": 118
        }
      ]
    },
    {
      "cell_type": "code",
      "source": [
        "df2 = df2[(df2[\"Constructores_posicion\"] != \"Auto%#\") & (df2[\"Constructores_posicion\"].notna())]"
      ],
      "metadata": {
        "id": "5B7wx0I8BKXU"
      },
      "execution_count": 119,
      "outputs": []
    },
    {
      "cell_type": "code",
      "source": [
        "df2[\"Constructores_posicion\"].unique()"
      ],
      "metadata": {
        "colab": {
          "base_uri": "https://localhost:8080/"
        },
        "id": "H_6JdRCnBXKa",
        "outputId": "7cb76495-2b35-426f-db93-8dd3f8459c9d"
      },
      "execution_count": 120,
      "outputs": [
        {
          "output_type": "execute_result",
          "data": {
            "text/plain": [
              "array(['0', '4', '3', '8', '13', '5', '6', '10', '14', '2', '11', '1',\n",
              "       '9', '12', '7', '15', '16', '17', '18', '19', '20'], dtype=object)"
            ]
          },
          "metadata": {},
          "execution_count": 120
        }
      ]
    },
    {
      "cell_type": "code",
      "source": [
        "df2[\"tiempo_clasificación\"].unique()"
      ],
      "metadata": {
        "colab": {
          "base_uri": "https://localhost:8080/"
        },
        "id": "uF1_PHcXBZnE",
        "outputId": "9391b543-87df-4907-f819-a29cbe8ddbc9"
      },
      "execution_count": 137,
      "outputs": [
        {
          "output_type": "execute_result",
          "data": {
            "text/plain": [
              "array([ 2.000e-01,  7.000e-01,  1.000e+00,  1.500e+00,  1.600e+00,\n",
              "        1.900e+00,  2.200e+00,  2.500e+00,  3.200e+00,  3.700e+00,\n",
              "        4.200e+00,  4.700e+00,  7.000e+00,  0.000e+00,  8.000e-01,\n",
              "        1.700e+00,  2.300e+00,  2.800e+00,  3.000e+00,  3.300e+00,\n",
              "        3.500e+00,  4.000e+00,  5.000e+00,  2.400e+00,  2.600e+00,\n",
              "        2.900e+00,  4.400e+00,  5.100e+00,  5.500e+00,  6.700e+00,\n",
              "        7.800e+00,  8.100e+00,  8.000e-01,  9.000e-01,  2.300e+00,\n",
              "        3.800e+00,  4.500e+00,  6.500e+00,  4.000e-01,  4.400e+00,\n",
              "        3.400e+00,  4.600e+00,  4.700e+00,  4.900e+00,  5.300e+00,\n",
              "        6.800e+00,  7.100e+00,  2.000e+00,  2.800e+00,  4.300e+00,\n",
              "        4.800e+00,  5.200e+00,  1.000e-01,  1.200e+00,  3.100e+00,\n",
              "        3.900e+00,  4.900e+00,  5.600e+00,  5.800e+00,  6.000e-01,\n",
              "        2.700e+00,  3.900e+00,  5.900e+00,  6.100e+00,  6.300e+00,\n",
              "        1.000e-01,  5.300e+00,  6.000e+00,  7.200e+00,  7.400e+00,\n",
              "        7.700e+00,  9.100e+00,  7.000e-01,  1.800e+00,  6.600e+00,\n",
              "        6.700e+00,  7.200e+00,  7.300e+00,  1.300e+00,  1.600e+00,\n",
              "        1.800e+00,  4.100e+00,  4.600e+00,  4.800e+00,  1.100e+00,\n",
              "        2.900e+00,  3.600e+00,  4.300e+00,  5.600e+00,  6.200e+00,\n",
              "        7.500e+00,  8.000e+00,  5.000e-01,  6.000e-01,  5.100e+00,\n",
              "        6.100e+00,  2.200e+00,  7.900e+00,  8.400e+00,  8.800e+00,\n",
              "        9.300e+00,  2.000e-01,  1.400e+00,  1.900e+00,  2.100e+00,\n",
              "        7.400e+00,  2.400e+00,  4.100e+00,  7.000e-01,  1.300e+00,\n",
              "        1.700e+00,  6.800e+00,  9.400e+00,  1.100e+00,  9.900e+00,\n",
              "        1.400e+00,  3.700e+00,  4.200e+00,  6.400e+00,  5.700e+00,\n",
              "        8.300e+00,  3.000e-01,  9.000e-01,  3.600e+00,  6.200e+00,\n",
              "        9.200e+00,  3.000e-01,  3.400e+00,  7.900e+00,  8.900e+00,\n",
              "        9.500e+00,  1.620e+01,  7.600e+00,  6.900e+00,  8.400e+00,\n",
              "        9.600e+00,  3.100e+00,  7.300e+00,  1.040e+01,  2.100e+00,\n",
              "        5.800e+00,  6.400e+00,  8.230e+01,  9.600e+00,  1.190e+01,\n",
              "        1.200e+00,  5.200e+00,  9.100e+00,  2.310e+01,  1.030e+01,\n",
              "        2.600e+00,  3.800e+00,  9.800e+00,  1.050e+01,  5.900e+00,\n",
              "        2.100e+00,  3.200e+00,  7.500e+00,  5.400e+00,  7.600e+00,\n",
              "        8.500e+00,  8.700e+00,  3.300e+00,  7.100e+00,  1.130e+01,\n",
              "        1.450e+01,  9.000e+00,  1.270e+01,  5.400e+00,  1.020e+01,\n",
              "        4.700e+00,  6.900e+00,  1.370e+01,  1.750e+01,  8.100e+00,\n",
              "        2.010e+01,  8.200e+00,  6.300e+00,  8.800e+00,  9.400e+00,\n",
              "        6.600e+00,  2.520e+01,  1.700e+00,  8.900e+00,  1.120e+01,\n",
              "        1.720e+01,  7.800e+00,  4.000e-01,  2.700e+00,  3.200e+00,\n",
              "        5.700e+00,  1.140e+01,  1.200e+00,  2.100e+00,  2.700e+00,\n",
              "        5.700e+00,  9.700e+00,  1.060e+01,  1.270e+01,  8.600e+00,\n",
              "        1.090e+01,  1.410e+01,  2.430e+01,  1.510e+01,  9.200e+00,\n",
              "        9.046e+02,  1.210e+01,  2.650e+01,  1.060e+01,  1.560e+01,\n",
              "        1.600e+01,  2.120e+01, -6.360e+01,  2.000e-01,  2.200e+00,\n",
              "        4.200e+00,  1.000e+01,  1.030e+01,  1.350e+01,  8.000e-01,\n",
              "        8.200e+00,  5.800e+00,  1.800e+00,  5.300e+00, -7.700e+01,\n",
              "        2.800e+00,  1.400e+00,  4.400e+00,  6.900e+00,  1.310e+01,\n",
              "        1.100e+01, -1.000e-01, -7.000e-01, -6.000e-01, -3.000e-01,\n",
              "       -2.000e-01, -8.000e-01, -1.000e-01, -5.000e-01, -4.000e-01,\n",
              "       -4.000e-01, -9.000e-01, -1.100e+00, -2.000e-01, -7.000e-01,\n",
              "       -6.000e-01,  1.070e+01, -1.200e+00, -1.000e+00, -8.000e-01,\n",
              "        1.650e+01,  3.300e+01,  1.640e+01,  1.690e+01,  1.900e+01,\n",
              "        1.950e+01,  2.050e+01,  2.330e+01, -3.700e+00, -2.390e+01,\n",
              "       -2.140e+01, -2.070e+01, -2.040e+01,  1.140e+01,  1.290e+01,\n",
              "        2.040e+01,  2.150e+01,  2.210e+01, -1.160e+01, -1.090e+01,\n",
              "       -1.050e+01, -5.200e+00, -1.130e+01, -9.800e+00,  1.270e+01,\n",
              "        1.300e+01, -1.190e+01, -9.000e+00, -9.900e+00,  9.900e+00,\n",
              "        1.010e+01,  1.360e+01,  1.380e+01, -6.300e+00, -8.200e+00,\n",
              "       -3.100e+00,  1.150e+01,  2.400e+01,  3.020e+01,  1.590e+01,\n",
              "        6.000e-01,  1.900e+00,  1.800e+00,  2.200e+00,  2.400e+00,\n",
              "        2.300e+00, -1.690e+01, -1.660e+01, -1.440e+01, -1.410e+01,\n",
              "       -1.390e+01, -1.330e+01, -1.320e+01, -1.370e+01, -1.290e+01,\n",
              "        1.300e+00,  1.400e+00,  1.500e+00,  2.020e+01,  2.510e+01,\n",
              "        1.080e+01,  8.000e-01,  1.600e+00,  1.670e+01,  1.530e+01,\n",
              "        4.800e+00])"
            ]
          },
          "metadata": {},
          "execution_count": 137
        }
      ]
    },
    {
      "cell_type": "code",
      "source": [
        "df2[\"tiempo_clasificación\"].isnull().sum()"
      ],
      "metadata": {
        "colab": {
          "base_uri": "https://localhost:8080/"
        },
        "id": "lRddZ9eQBflv",
        "outputId": "776372da-9081-483a-d96a-6ac6dcf9affe"
      },
      "execution_count": 138,
      "outputs": [
        {
          "output_type": "execute_result",
          "data": {
            "text/plain": [
              "np.int64(0)"
            ]
          },
          "metadata": {},
          "execution_count": 138
        }
      ]
    },
    {
      "cell_type": "code",
      "source": [
        "df2 = df2[df2[\"tiempo_clasificación\"].notna()]\n"
      ],
      "metadata": {
        "id": "TeGM4Fb5BiA_"
      },
      "execution_count": 139,
      "outputs": []
    },
    {
      "cell_type": "code",
      "source": [
        "df2[\"tiempo_clasificación\"].unique()"
      ],
      "metadata": {
        "colab": {
          "base_uri": "https://localhost:8080/"
        },
        "id": "5zWafwiKBpvE",
        "outputId": "a442986a-0dbc-4191-dba3-628f2fdbee85"
      },
      "execution_count": 140,
      "outputs": [
        {
          "output_type": "execute_result",
          "data": {
            "text/plain": [
              "array([ 2.000e-01,  7.000e-01,  1.000e+00,  1.500e+00,  1.600e+00,\n",
              "        1.900e+00,  2.200e+00,  2.500e+00,  3.200e+00,  3.700e+00,\n",
              "        4.200e+00,  4.700e+00,  7.000e+00,  0.000e+00,  8.000e-01,\n",
              "        1.700e+00,  2.300e+00,  2.800e+00,  3.000e+00,  3.300e+00,\n",
              "        3.500e+00,  4.000e+00,  5.000e+00,  2.400e+00,  2.600e+00,\n",
              "        2.900e+00,  4.400e+00,  5.100e+00,  5.500e+00,  6.700e+00,\n",
              "        7.800e+00,  8.100e+00,  8.000e-01,  9.000e-01,  2.300e+00,\n",
              "        3.800e+00,  4.500e+00,  6.500e+00,  4.000e-01,  4.400e+00,\n",
              "        3.400e+00,  4.600e+00,  4.700e+00,  4.900e+00,  5.300e+00,\n",
              "        6.800e+00,  7.100e+00,  2.000e+00,  2.800e+00,  4.300e+00,\n",
              "        4.800e+00,  5.200e+00,  1.000e-01,  1.200e+00,  3.100e+00,\n",
              "        3.900e+00,  4.900e+00,  5.600e+00,  5.800e+00,  6.000e-01,\n",
              "        2.700e+00,  3.900e+00,  5.900e+00,  6.100e+00,  6.300e+00,\n",
              "        1.000e-01,  5.300e+00,  6.000e+00,  7.200e+00,  7.400e+00,\n",
              "        7.700e+00,  9.100e+00,  7.000e-01,  1.800e+00,  6.600e+00,\n",
              "        6.700e+00,  7.200e+00,  7.300e+00,  1.300e+00,  1.600e+00,\n",
              "        1.800e+00,  4.100e+00,  4.600e+00,  4.800e+00,  1.100e+00,\n",
              "        2.900e+00,  3.600e+00,  4.300e+00,  5.600e+00,  6.200e+00,\n",
              "        7.500e+00,  8.000e+00,  5.000e-01,  6.000e-01,  5.100e+00,\n",
              "        6.100e+00,  2.200e+00,  7.900e+00,  8.400e+00,  8.800e+00,\n",
              "        9.300e+00,  2.000e-01,  1.400e+00,  1.900e+00,  2.100e+00,\n",
              "        7.400e+00,  2.400e+00,  4.100e+00,  7.000e-01,  1.300e+00,\n",
              "        1.700e+00,  6.800e+00,  9.400e+00,  1.100e+00,  9.900e+00,\n",
              "        1.400e+00,  3.700e+00,  4.200e+00,  6.400e+00,  5.700e+00,\n",
              "        8.300e+00,  3.000e-01,  9.000e-01,  3.600e+00,  6.200e+00,\n",
              "        9.200e+00,  3.000e-01,  3.400e+00,  7.900e+00,  8.900e+00,\n",
              "        9.500e+00,  1.620e+01,  7.600e+00,  6.900e+00,  8.400e+00,\n",
              "        9.600e+00,  3.100e+00,  7.300e+00,  1.040e+01,  2.100e+00,\n",
              "        5.800e+00,  6.400e+00,  8.230e+01,  9.600e+00,  1.190e+01,\n",
              "        1.200e+00,  5.200e+00,  9.100e+00,  2.310e+01,  1.030e+01,\n",
              "        2.600e+00,  3.800e+00,  9.800e+00,  1.050e+01,  5.900e+00,\n",
              "        2.100e+00,  3.200e+00,  7.500e+00,  5.400e+00,  7.600e+00,\n",
              "        8.500e+00,  8.700e+00,  3.300e+00,  7.100e+00,  1.130e+01,\n",
              "        1.450e+01,  9.000e+00,  1.270e+01,  5.400e+00,  1.020e+01,\n",
              "        4.700e+00,  6.900e+00,  1.370e+01,  1.750e+01,  8.100e+00,\n",
              "        2.010e+01,  8.200e+00,  6.300e+00,  8.800e+00,  9.400e+00,\n",
              "        6.600e+00,  2.520e+01,  1.700e+00,  8.900e+00,  1.120e+01,\n",
              "        1.720e+01,  7.800e+00,  4.000e-01,  2.700e+00,  3.200e+00,\n",
              "        5.700e+00,  1.140e+01,  1.200e+00,  2.100e+00,  2.700e+00,\n",
              "        5.700e+00,  9.700e+00,  1.060e+01,  1.270e+01,  8.600e+00,\n",
              "        1.090e+01,  1.410e+01,  2.430e+01,  1.510e+01,  9.200e+00,\n",
              "        9.046e+02,  1.210e+01,  2.650e+01,  1.060e+01,  1.560e+01,\n",
              "        1.600e+01,  2.120e+01, -6.360e+01,  2.000e-01,  2.200e+00,\n",
              "        4.200e+00,  1.000e+01,  1.030e+01,  1.350e+01,  8.000e-01,\n",
              "        8.200e+00,  5.800e+00,  1.800e+00,  5.300e+00, -7.700e+01,\n",
              "        2.800e+00,  1.400e+00,  4.400e+00,  6.900e+00,  1.310e+01,\n",
              "        1.100e+01, -1.000e-01, -7.000e-01, -6.000e-01, -3.000e-01,\n",
              "       -2.000e-01, -8.000e-01, -1.000e-01, -5.000e-01, -4.000e-01,\n",
              "       -4.000e-01, -9.000e-01, -1.100e+00, -2.000e-01, -7.000e-01,\n",
              "       -6.000e-01,  1.070e+01, -1.200e+00, -1.000e+00, -8.000e-01,\n",
              "        1.650e+01,  3.300e+01,  1.640e+01,  1.690e+01,  1.900e+01,\n",
              "        1.950e+01,  2.050e+01,  2.330e+01, -3.700e+00, -2.390e+01,\n",
              "       -2.140e+01, -2.070e+01, -2.040e+01,  1.140e+01,  1.290e+01,\n",
              "        2.040e+01,  2.150e+01,  2.210e+01, -1.160e+01, -1.090e+01,\n",
              "       -1.050e+01, -5.200e+00, -1.130e+01, -9.800e+00,  1.270e+01,\n",
              "        1.300e+01, -1.190e+01, -9.000e+00, -9.900e+00,  9.900e+00,\n",
              "        1.010e+01,  1.360e+01,  1.380e+01, -6.300e+00, -8.200e+00,\n",
              "       -3.100e+00,  1.150e+01,  2.400e+01,  3.020e+01,  1.590e+01,\n",
              "        6.000e-01,  1.900e+00,  1.800e+00,  2.200e+00,  2.400e+00,\n",
              "        2.300e+00, -1.690e+01, -1.660e+01, -1.440e+01, -1.410e+01,\n",
              "       -1.390e+01, -1.330e+01, -1.320e+01, -1.370e+01, -1.290e+01,\n",
              "        1.300e+00,  1.400e+00,  1.500e+00,  2.020e+01,  2.510e+01,\n",
              "        1.080e+01,  8.000e-01,  1.600e+00,  1.670e+01,  1.530e+01,\n",
              "        4.800e+00])"
            ]
          },
          "metadata": {},
          "execution_count": 140
        }
      ]
    },
    {
      "cell_type": "code",
      "source": [
        "df2[\"Edad_piloto\"].unique()"
      ],
      "metadata": {
        "colab": {
          "base_uri": "https://localhost:8080/"
        },
        "id": "kx5AvvKcBw5v",
        "outputId": "b3175ce7-6826-4e6a-b2ff-3e6f89bb9612"
      },
      "execution_count": 125,
      "outputs": [
        {
          "output_type": "execute_result",
          "data": {
            "text/plain": [
              "array([28., 34., 25., 36., 24., 39., 33., 29., 26., 27., 23., 30., 31.,\n",
              "       22., 37., 35., nan, 32., 40., 41., 38., 42., 21., 20., 19., 43.,\n",
              "       17., 18.])"
            ]
          },
          "metadata": {},
          "execution_count": 125
        }
      ]
    },
    {
      "cell_type": "code",
      "source": [
        "df2[\"Edad_piloto\"].isnull().sum()"
      ],
      "metadata": {
        "colab": {
          "base_uri": "https://localhost:8080/"
        },
        "id": "hOb8tYX8B2aO",
        "outputId": "404b2a30-c6ca-43dc-dce0-c45ee2d86709"
      },
      "execution_count": 126,
      "outputs": [
        {
          "output_type": "execute_result",
          "data": {
            "text/plain": [
              "np.int64(241)"
            ]
          },
          "metadata": {},
          "execution_count": 126
        }
      ]
    },
    {
      "cell_type": "code",
      "source": [
        "df2 = df2[df2[\"Edad_piloto\"].notna()]\n"
      ],
      "metadata": {
        "id": "2uWTk4RTB25B"
      },
      "execution_count": 127,
      "outputs": []
    },
    {
      "cell_type": "code",
      "source": [
        "df2[\"Edad_piloto\"].unique()"
      ],
      "metadata": {
        "colab": {
          "base_uri": "https://localhost:8080/"
        },
        "id": "i5cXTOSFB_8s",
        "outputId": "e274afab-eed0-445b-cbc7-ab298b65fc47"
      },
      "execution_count": 128,
      "outputs": [
        {
          "output_type": "execute_result",
          "data": {
            "text/plain": [
              "array([28., 34., 25., 36., 24., 39., 33., 29., 26., 27., 23., 30., 31.,\n",
              "       22., 37., 35., 32., 40., 41., 38., 42., 21., 20., 19., 43., 17.,\n",
              "       18.])"
            ]
          },
          "metadata": {},
          "execution_count": 128
        }
      ]
    },
    {
      "cell_type": "code",
      "source": [
        "df2.columns"
      ],
      "metadata": {
        "colab": {
          "base_uri": "https://localhost:8080/"
        },
        "id": "POgsoDnB51Z9",
        "outputId": "18cf98f1-c7a0-445f-e151-1519b2cb55e5"
      },
      "execution_count": 136,
      "outputs": [
        {
          "output_type": "execute_result",
          "data": {
            "text/plain": [
              "Index(['Unnamed: 0', 'Sesion', 'Recorrido', 'Circuito', 'Clima Calido',\n",
              "       'Clima frio', 'Clima seco', 'Clima lluvioso', 'Clima nublado', 'Piloto',\n",
              "       'Nacionalidad', 'Constructores', 'Grilla', 'Podio', 'Puntos_piloto',\n",
              "       'Victorias_piloto', 'Posicion_piloto', 'Puntos_constructores',\n",
              "       'Victorias_constructores', 'Constructores_posicion',\n",
              "       'tiempo_clasificación', 'Edad_piloto'],\n",
              "      dtype='object')"
            ]
          },
          "metadata": {},
          "execution_count": 136
        }
      ]
    },
    {
      "cell_type": "code",
      "source": [
        "df2"
      ],
      "metadata": {
        "colab": {
          "base_uri": "https://localhost:8080/",
          "height": 461
        },
        "id": "4oXBZx8dCgSA",
        "outputId": "e3afe247-2dd8-40f0-deff-08cd7a67ad50"
      },
      "execution_count": 145,
      "outputs": [
        {
          "output_type": "execute_result",
          "data": {
            "text/plain": [
              "       Unnamed: 0  Sesion  Recorrido     Circuito Clima Calido  Clima frio  \\\n",
              "1             5.0  1983.0        1.0  jacarepagua        False         0.0   \n",
              "4             6.0  1983.0        1.0  jacarepagua        False         0.0   \n",
              "5             8.0  1983.0        1.0  jacarepagua        False         0.0   \n",
              "6            22.0  1983.0        1.0  jacarepagua        False         0.0   \n",
              "7            17.0  1983.0        1.0  jacarepagua        False         0.0   \n",
              "...           ...     ...        ...          ...          ...         ...   \n",
              "16633       299.0  1983.0       12.0    zandvoort        False         0.0   \n",
              "16635     10066.0  2009.0        5.0    catalunya         True         0.0   \n",
              "16637      5893.0  1997.0       13.0        monza        False         0.0   \n",
              "16638      9746.0  2008.0        7.0   villeneuve         True         0.0   \n",
              "16639       434.0  1984.0        3.0       zolder        False         0.0   \n",
              "\n",
              "      Clima seco  Clima lluvioso Clima nublado      Piloto  ... Grilla Podio  \\\n",
              "1           True             0.0         False       prost  ...      2     6   \n",
              "4           True             0.0         False     warwick  ...      5     7   \n",
              "5           True             0.0         False      arnoux  ...      6     9   \n",
              "6           True             0.0         False     patrese  ...      7    23   \n",
              "7           True             0.0         False     cheever  ...      8    18   \n",
              "...          ...             ...           ...         ...  ...    ...   ...   \n",
              "16633      False             0.0          True     laffite  ...     17    20   \n",
              "16635      False             0.0         False       sutil  ...     19    20   \n",
              "16637       True             0.0         False      irvine  ...     10     8   \n",
              "16638      False             0.0         False  fisichella  ...     17    14   \n",
              "16639      False             0.0         False      arnoux  ...      2     3   \n",
              "\n",
              "      Puntos_piloto Victorias_piloto  Posicion_piloto  Puntos_constructores  \\\n",
              "1               0.0              0.0              0.0                   0.0   \n",
              "4               0.0              0.0              0.0                   0.0   \n",
              "5               0.0              0.0              0.0                   0.0   \n",
              "6               0.0              0.0              0.0                   0.0   \n",
              "7               0.0              0.0              0.0                   0.0   \n",
              "...             ...              ...              ...                   ...   \n",
              "16633          11.0              0.0              9.0                  36.0   \n",
              "16635           0.0              0.0             16.0                   0.0   \n",
              "16637          18.0              0.0              6.0                  84.0   \n",
              "16638           0.0              0.0             18.0                   0.0   \n",
              "16639           0.0              0.0             23.0                   0.0   \n",
              "\n",
              "       Victorias_constructores  Constructores_posicion  tiempo_clasificación  \\\n",
              "1                          0.0                       0                   0.2   \n",
              "4                          0.0                       0                   0.7   \n",
              "5                          0.0                       0                   1.0   \n",
              "6                          0.0                       0                   1.5   \n",
              "7                          0.0                       0                   1.6   \n",
              "...                        ...                     ...                   ...   \n",
              "16633                      1.0                       4                   4.4   \n",
              "16635                      0.0                      10                   1.2   \n",
              "16637                      4.0                       1                   0.9   \n",
              "16638                      0.0                      10                   1.3   \n",
              "16639                      0.0                      11                   0.6   \n",
              "\n",
              "      Edad_piloto  \n",
              "1            28.0  \n",
              "4            28.0  \n",
              "5            34.0  \n",
              "6            28.0  \n",
              "7            25.0  \n",
              "...           ...  \n",
              "16633        39.0  \n",
              "16635        26.0  \n",
              "16637        31.0  \n",
              "16638        35.0  \n",
              "16639        35.0  \n",
              "\n",
              "[7517 rows x 22 columns]"
            ],
            "text/html": [
              "\n",
              "  <div id=\"df-c9d24eaf-c034-4903-9a9d-6b8b4e5e2f5e\" class=\"colab-df-container\">\n",
              "    <div>\n",
              "<style scoped>\n",
              "    .dataframe tbody tr th:only-of-type {\n",
              "        vertical-align: middle;\n",
              "    }\n",
              "\n",
              "    .dataframe tbody tr th {\n",
              "        vertical-align: top;\n",
              "    }\n",
              "\n",
              "    .dataframe thead th {\n",
              "        text-align: right;\n",
              "    }\n",
              "</style>\n",
              "<table border=\"1\" class=\"dataframe\">\n",
              "  <thead>\n",
              "    <tr style=\"text-align: right;\">\n",
              "      <th></th>\n",
              "      <th>Unnamed: 0</th>\n",
              "      <th>Sesion</th>\n",
              "      <th>Recorrido</th>\n",
              "      <th>Circuito</th>\n",
              "      <th>Clima Calido</th>\n",
              "      <th>Clima frio</th>\n",
              "      <th>Clima seco</th>\n",
              "      <th>Clima lluvioso</th>\n",
              "      <th>Clima nublado</th>\n",
              "      <th>Piloto</th>\n",
              "      <th>...</th>\n",
              "      <th>Grilla</th>\n",
              "      <th>Podio</th>\n",
              "      <th>Puntos_piloto</th>\n",
              "      <th>Victorias_piloto</th>\n",
              "      <th>Posicion_piloto</th>\n",
              "      <th>Puntos_constructores</th>\n",
              "      <th>Victorias_constructores</th>\n",
              "      <th>Constructores_posicion</th>\n",
              "      <th>tiempo_clasificación</th>\n",
              "      <th>Edad_piloto</th>\n",
              "    </tr>\n",
              "  </thead>\n",
              "  <tbody>\n",
              "    <tr>\n",
              "      <th>1</th>\n",
              "      <td>5.0</td>\n",
              "      <td>1983.0</td>\n",
              "      <td>1.0</td>\n",
              "      <td>jacarepagua</td>\n",
              "      <td>False</td>\n",
              "      <td>0.0</td>\n",
              "      <td>True</td>\n",
              "      <td>0.0</td>\n",
              "      <td>False</td>\n",
              "      <td>prost</td>\n",
              "      <td>...</td>\n",
              "      <td>2</td>\n",
              "      <td>6</td>\n",
              "      <td>0.0</td>\n",
              "      <td>0.0</td>\n",
              "      <td>0.0</td>\n",
              "      <td>0.0</td>\n",
              "      <td>0.0</td>\n",
              "      <td>0</td>\n",
              "      <td>0.2</td>\n",
              "      <td>28.0</td>\n",
              "    </tr>\n",
              "    <tr>\n",
              "      <th>4</th>\n",
              "      <td>6.0</td>\n",
              "      <td>1983.0</td>\n",
              "      <td>1.0</td>\n",
              "      <td>jacarepagua</td>\n",
              "      <td>False</td>\n",
              "      <td>0.0</td>\n",
              "      <td>True</td>\n",
              "      <td>0.0</td>\n",
              "      <td>False</td>\n",
              "      <td>warwick</td>\n",
              "      <td>...</td>\n",
              "      <td>5</td>\n",
              "      <td>7</td>\n",
              "      <td>0.0</td>\n",
              "      <td>0.0</td>\n",
              "      <td>0.0</td>\n",
              "      <td>0.0</td>\n",
              "      <td>0.0</td>\n",
              "      <td>0</td>\n",
              "      <td>0.7</td>\n",
              "      <td>28.0</td>\n",
              "    </tr>\n",
              "    <tr>\n",
              "      <th>5</th>\n",
              "      <td>8.0</td>\n",
              "      <td>1983.0</td>\n",
              "      <td>1.0</td>\n",
              "      <td>jacarepagua</td>\n",
              "      <td>False</td>\n",
              "      <td>0.0</td>\n",
              "      <td>True</td>\n",
              "      <td>0.0</td>\n",
              "      <td>False</td>\n",
              "      <td>arnoux</td>\n",
              "      <td>...</td>\n",
              "      <td>6</td>\n",
              "      <td>9</td>\n",
              "      <td>0.0</td>\n",
              "      <td>0.0</td>\n",
              "      <td>0.0</td>\n",
              "      <td>0.0</td>\n",
              "      <td>0.0</td>\n",
              "      <td>0</td>\n",
              "      <td>1.0</td>\n",
              "      <td>34.0</td>\n",
              "    </tr>\n",
              "    <tr>\n",
              "      <th>6</th>\n",
              "      <td>22.0</td>\n",
              "      <td>1983.0</td>\n",
              "      <td>1.0</td>\n",
              "      <td>jacarepagua</td>\n",
              "      <td>False</td>\n",
              "      <td>0.0</td>\n",
              "      <td>True</td>\n",
              "      <td>0.0</td>\n",
              "      <td>False</td>\n",
              "      <td>patrese</td>\n",
              "      <td>...</td>\n",
              "      <td>7</td>\n",
              "      <td>23</td>\n",
              "      <td>0.0</td>\n",
              "      <td>0.0</td>\n",
              "      <td>0.0</td>\n",
              "      <td>0.0</td>\n",
              "      <td>0.0</td>\n",
              "      <td>0</td>\n",
              "      <td>1.5</td>\n",
              "      <td>28.0</td>\n",
              "    </tr>\n",
              "    <tr>\n",
              "      <th>7</th>\n",
              "      <td>17.0</td>\n",
              "      <td>1983.0</td>\n",
              "      <td>1.0</td>\n",
              "      <td>jacarepagua</td>\n",
              "      <td>False</td>\n",
              "      <td>0.0</td>\n",
              "      <td>True</td>\n",
              "      <td>0.0</td>\n",
              "      <td>False</td>\n",
              "      <td>cheever</td>\n",
              "      <td>...</td>\n",
              "      <td>8</td>\n",
              "      <td>18</td>\n",
              "      <td>0.0</td>\n",
              "      <td>0.0</td>\n",
              "      <td>0.0</td>\n",
              "      <td>0.0</td>\n",
              "      <td>0.0</td>\n",
              "      <td>0</td>\n",
              "      <td>1.6</td>\n",
              "      <td>25.0</td>\n",
              "    </tr>\n",
              "    <tr>\n",
              "      <th>...</th>\n",
              "      <td>...</td>\n",
              "      <td>...</td>\n",
              "      <td>...</td>\n",
              "      <td>...</td>\n",
              "      <td>...</td>\n",
              "      <td>...</td>\n",
              "      <td>...</td>\n",
              "      <td>...</td>\n",
              "      <td>...</td>\n",
              "      <td>...</td>\n",
              "      <td>...</td>\n",
              "      <td>...</td>\n",
              "      <td>...</td>\n",
              "      <td>...</td>\n",
              "      <td>...</td>\n",
              "      <td>...</td>\n",
              "      <td>...</td>\n",
              "      <td>...</td>\n",
              "      <td>...</td>\n",
              "      <td>...</td>\n",
              "      <td>...</td>\n",
              "    </tr>\n",
              "    <tr>\n",
              "      <th>16633</th>\n",
              "      <td>299.0</td>\n",
              "      <td>1983.0</td>\n",
              "      <td>12.0</td>\n",
              "      <td>zandvoort</td>\n",
              "      <td>False</td>\n",
              "      <td>0.0</td>\n",
              "      <td>False</td>\n",
              "      <td>0.0</td>\n",
              "      <td>True</td>\n",
              "      <td>laffite</td>\n",
              "      <td>...</td>\n",
              "      <td>17</td>\n",
              "      <td>20</td>\n",
              "      <td>11.0</td>\n",
              "      <td>0.0</td>\n",
              "      <td>9.0</td>\n",
              "      <td>36.0</td>\n",
              "      <td>1.0</td>\n",
              "      <td>4</td>\n",
              "      <td>4.4</td>\n",
              "      <td>39.0</td>\n",
              "    </tr>\n",
              "    <tr>\n",
              "      <th>16635</th>\n",
              "      <td>10066.0</td>\n",
              "      <td>2009.0</td>\n",
              "      <td>5.0</td>\n",
              "      <td>catalunya</td>\n",
              "      <td>True</td>\n",
              "      <td>0.0</td>\n",
              "      <td>False</td>\n",
              "      <td>0.0</td>\n",
              "      <td>False</td>\n",
              "      <td>sutil</td>\n",
              "      <td>...</td>\n",
              "      <td>19</td>\n",
              "      <td>20</td>\n",
              "      <td>0.0</td>\n",
              "      <td>0.0</td>\n",
              "      <td>16.0</td>\n",
              "      <td>0.0</td>\n",
              "      <td>0.0</td>\n",
              "      <td>10</td>\n",
              "      <td>1.2</td>\n",
              "      <td>26.0</td>\n",
              "    </tr>\n",
              "    <tr>\n",
              "      <th>16637</th>\n",
              "      <td>5893.0</td>\n",
              "      <td>1997.0</td>\n",
              "      <td>13.0</td>\n",
              "      <td>monza</td>\n",
              "      <td>False</td>\n",
              "      <td>0.0</td>\n",
              "      <td>True</td>\n",
              "      <td>0.0</td>\n",
              "      <td>False</td>\n",
              "      <td>irvine</td>\n",
              "      <td>...</td>\n",
              "      <td>10</td>\n",
              "      <td>8</td>\n",
              "      <td>18.0</td>\n",
              "      <td>0.0</td>\n",
              "      <td>6.0</td>\n",
              "      <td>84.0</td>\n",
              "      <td>4.0</td>\n",
              "      <td>1</td>\n",
              "      <td>0.9</td>\n",
              "      <td>31.0</td>\n",
              "    </tr>\n",
              "    <tr>\n",
              "      <th>16638</th>\n",
              "      <td>9746.0</td>\n",
              "      <td>2008.0</td>\n",
              "      <td>7.0</td>\n",
              "      <td>villeneuve</td>\n",
              "      <td>True</td>\n",
              "      <td>0.0</td>\n",
              "      <td>False</td>\n",
              "      <td>0.0</td>\n",
              "      <td>False</td>\n",
              "      <td>fisichella</td>\n",
              "      <td>...</td>\n",
              "      <td>17</td>\n",
              "      <td>14</td>\n",
              "      <td>0.0</td>\n",
              "      <td>0.0</td>\n",
              "      <td>18.0</td>\n",
              "      <td>0.0</td>\n",
              "      <td>0.0</td>\n",
              "      <td>10</td>\n",
              "      <td>1.3</td>\n",
              "      <td>35.0</td>\n",
              "    </tr>\n",
              "    <tr>\n",
              "      <th>16639</th>\n",
              "      <td>434.0</td>\n",
              "      <td>1984.0</td>\n",
              "      <td>3.0</td>\n",
              "      <td>zolder</td>\n",
              "      <td>False</td>\n",
              "      <td>0.0</td>\n",
              "      <td>False</td>\n",
              "      <td>0.0</td>\n",
              "      <td>False</td>\n",
              "      <td>arnoux</td>\n",
              "      <td>...</td>\n",
              "      <td>2</td>\n",
              "      <td>3</td>\n",
              "      <td>0.0</td>\n",
              "      <td>0.0</td>\n",
              "      <td>23.0</td>\n",
              "      <td>0.0</td>\n",
              "      <td>0.0</td>\n",
              "      <td>11</td>\n",
              "      <td>0.6</td>\n",
              "      <td>35.0</td>\n",
              "    </tr>\n",
              "  </tbody>\n",
              "</table>\n",
              "<p>7517 rows × 22 columns</p>\n",
              "</div>\n",
              "    <div class=\"colab-df-buttons\">\n",
              "\n",
              "  <div class=\"colab-df-container\">\n",
              "    <button class=\"colab-df-convert\" onclick=\"convertToInteractive('df-c9d24eaf-c034-4903-9a9d-6b8b4e5e2f5e')\"\n",
              "            title=\"Convert this dataframe to an interactive table.\"\n",
              "            style=\"display:none;\">\n",
              "\n",
              "  <svg xmlns=\"http://www.w3.org/2000/svg\" height=\"24px\" viewBox=\"0 -960 960 960\">\n",
              "    <path d=\"M120-120v-720h720v720H120Zm60-500h600v-160H180v160Zm220 220h160v-160H400v160Zm0 220h160v-160H400v160ZM180-400h160v-160H180v160Zm440 0h160v-160H620v160ZM180-180h160v-160H180v160Zm440 0h160v-160H620v160Z\"/>\n",
              "  </svg>\n",
              "    </button>\n",
              "\n",
              "  <style>\n",
              "    .colab-df-container {\n",
              "      display:flex;\n",
              "      gap: 12px;\n",
              "    }\n",
              "\n",
              "    .colab-df-convert {\n",
              "      background-color: #E8F0FE;\n",
              "      border: none;\n",
              "      border-radius: 50%;\n",
              "      cursor: pointer;\n",
              "      display: none;\n",
              "      fill: #1967D2;\n",
              "      height: 32px;\n",
              "      padding: 0 0 0 0;\n",
              "      width: 32px;\n",
              "    }\n",
              "\n",
              "    .colab-df-convert:hover {\n",
              "      background-color: #E2EBFA;\n",
              "      box-shadow: 0px 1px 2px rgba(60, 64, 67, 0.3), 0px 1px 3px 1px rgba(60, 64, 67, 0.15);\n",
              "      fill: #174EA6;\n",
              "    }\n",
              "\n",
              "    .colab-df-buttons div {\n",
              "      margin-bottom: 4px;\n",
              "    }\n",
              "\n",
              "    [theme=dark] .colab-df-convert {\n",
              "      background-color: #3B4455;\n",
              "      fill: #D2E3FC;\n",
              "    }\n",
              "\n",
              "    [theme=dark] .colab-df-convert:hover {\n",
              "      background-color: #434B5C;\n",
              "      box-shadow: 0px 1px 3px 1px rgba(0, 0, 0, 0.15);\n",
              "      filter: drop-shadow(0px 1px 2px rgba(0, 0, 0, 0.3));\n",
              "      fill: #FFFFFF;\n",
              "    }\n",
              "  </style>\n",
              "\n",
              "    <script>\n",
              "      const buttonEl =\n",
              "        document.querySelector('#df-c9d24eaf-c034-4903-9a9d-6b8b4e5e2f5e button.colab-df-convert');\n",
              "      buttonEl.style.display =\n",
              "        google.colab.kernel.accessAllowed ? 'block' : 'none';\n",
              "\n",
              "      async function convertToInteractive(key) {\n",
              "        const element = document.querySelector('#df-c9d24eaf-c034-4903-9a9d-6b8b4e5e2f5e');\n",
              "        const dataTable =\n",
              "          await google.colab.kernel.invokeFunction('convertToInteractive',\n",
              "                                                    [key], {});\n",
              "        if (!dataTable) return;\n",
              "\n",
              "        const docLinkHtml = 'Like what you see? Visit the ' +\n",
              "          '<a target=\"_blank\" href=https://colab.research.google.com/notebooks/data_table.ipynb>data table notebook</a>'\n",
              "          + ' to learn more about interactive tables.';\n",
              "        element.innerHTML = '';\n",
              "        dataTable['output_type'] = 'display_data';\n",
              "        await google.colab.output.renderOutput(dataTable, element);\n",
              "        const docLink = document.createElement('div');\n",
              "        docLink.innerHTML = docLinkHtml;\n",
              "        element.appendChild(docLink);\n",
              "      }\n",
              "    </script>\n",
              "  </div>\n",
              "\n",
              "\n",
              "    <div id=\"df-6004478e-51e2-4284-b324-b0d7a500e139\">\n",
              "      <button class=\"colab-df-quickchart\" onclick=\"quickchart('df-6004478e-51e2-4284-b324-b0d7a500e139')\"\n",
              "                title=\"Suggest charts\"\n",
              "                style=\"display:none;\">\n",
              "\n",
              "<svg xmlns=\"http://www.w3.org/2000/svg\" height=\"24px\"viewBox=\"0 0 24 24\"\n",
              "     width=\"24px\">\n",
              "    <g>\n",
              "        <path d=\"M19 3H5c-1.1 0-2 .9-2 2v14c0 1.1.9 2 2 2h14c1.1 0 2-.9 2-2V5c0-1.1-.9-2-2-2zM9 17H7v-7h2v7zm4 0h-2V7h2v10zm4 0h-2v-4h2v4z\"/>\n",
              "    </g>\n",
              "</svg>\n",
              "      </button>\n",
              "\n",
              "<style>\n",
              "  .colab-df-quickchart {\n",
              "      --bg-color: #E8F0FE;\n",
              "      --fill-color: #1967D2;\n",
              "      --hover-bg-color: #E2EBFA;\n",
              "      --hover-fill-color: #174EA6;\n",
              "      --disabled-fill-color: #AAA;\n",
              "      --disabled-bg-color: #DDD;\n",
              "  }\n",
              "\n",
              "  [theme=dark] .colab-df-quickchart {\n",
              "      --bg-color: #3B4455;\n",
              "      --fill-color: #D2E3FC;\n",
              "      --hover-bg-color: #434B5C;\n",
              "      --hover-fill-color: #FFFFFF;\n",
              "      --disabled-bg-color: #3B4455;\n",
              "      --disabled-fill-color: #666;\n",
              "  }\n",
              "\n",
              "  .colab-df-quickchart {\n",
              "    background-color: var(--bg-color);\n",
              "    border: none;\n",
              "    border-radius: 50%;\n",
              "    cursor: pointer;\n",
              "    display: none;\n",
              "    fill: var(--fill-color);\n",
              "    height: 32px;\n",
              "    padding: 0;\n",
              "    width: 32px;\n",
              "  }\n",
              "\n",
              "  .colab-df-quickchart:hover {\n",
              "    background-color: var(--hover-bg-color);\n",
              "    box-shadow: 0 1px 2px rgba(60, 64, 67, 0.3), 0 1px 3px 1px rgba(60, 64, 67, 0.15);\n",
              "    fill: var(--button-hover-fill-color);\n",
              "  }\n",
              "\n",
              "  .colab-df-quickchart-complete:disabled,\n",
              "  .colab-df-quickchart-complete:disabled:hover {\n",
              "    background-color: var(--disabled-bg-color);\n",
              "    fill: var(--disabled-fill-color);\n",
              "    box-shadow: none;\n",
              "  }\n",
              "\n",
              "  .colab-df-spinner {\n",
              "    border: 2px solid var(--fill-color);\n",
              "    border-color: transparent;\n",
              "    border-bottom-color: var(--fill-color);\n",
              "    animation:\n",
              "      spin 1s steps(1) infinite;\n",
              "  }\n",
              "\n",
              "  @keyframes spin {\n",
              "    0% {\n",
              "      border-color: transparent;\n",
              "      border-bottom-color: var(--fill-color);\n",
              "      border-left-color: var(--fill-color);\n",
              "    }\n",
              "    20% {\n",
              "      border-color: transparent;\n",
              "      border-left-color: var(--fill-color);\n",
              "      border-top-color: var(--fill-color);\n",
              "    }\n",
              "    30% {\n",
              "      border-color: transparent;\n",
              "      border-left-color: var(--fill-color);\n",
              "      border-top-color: var(--fill-color);\n",
              "      border-right-color: var(--fill-color);\n",
              "    }\n",
              "    40% {\n",
              "      border-color: transparent;\n",
              "      border-right-color: var(--fill-color);\n",
              "      border-top-color: var(--fill-color);\n",
              "    }\n",
              "    60% {\n",
              "      border-color: transparent;\n",
              "      border-right-color: var(--fill-color);\n",
              "    }\n",
              "    80% {\n",
              "      border-color: transparent;\n",
              "      border-right-color: var(--fill-color);\n",
              "      border-bottom-color: var(--fill-color);\n",
              "    }\n",
              "    90% {\n",
              "      border-color: transparent;\n",
              "      border-bottom-color: var(--fill-color);\n",
              "    }\n",
              "  }\n",
              "</style>\n",
              "\n",
              "      <script>\n",
              "        async function quickchart(key) {\n",
              "          const quickchartButtonEl =\n",
              "            document.querySelector('#' + key + ' button');\n",
              "          quickchartButtonEl.disabled = true;  // To prevent multiple clicks.\n",
              "          quickchartButtonEl.classList.add('colab-df-spinner');\n",
              "          try {\n",
              "            const charts = await google.colab.kernel.invokeFunction(\n",
              "                'suggestCharts', [key], {});\n",
              "          } catch (error) {\n",
              "            console.error('Error during call to suggestCharts:', error);\n",
              "          }\n",
              "          quickchartButtonEl.classList.remove('colab-df-spinner');\n",
              "          quickchartButtonEl.classList.add('colab-df-quickchart-complete');\n",
              "        }\n",
              "        (() => {\n",
              "          let quickchartButtonEl =\n",
              "            document.querySelector('#df-6004478e-51e2-4284-b324-b0d7a500e139 button');\n",
              "          quickchartButtonEl.style.display =\n",
              "            google.colab.kernel.accessAllowed ? 'block' : 'none';\n",
              "        })();\n",
              "      </script>\n",
              "    </div>\n",
              "\n",
              "  <div id=\"id_e0f9f7e8-b73f-4419-81cc-215a80878bad\">\n",
              "    <style>\n",
              "      .colab-df-generate {\n",
              "        background-color: #E8F0FE;\n",
              "        border: none;\n",
              "        border-radius: 50%;\n",
              "        cursor: pointer;\n",
              "        display: none;\n",
              "        fill: #1967D2;\n",
              "        height: 32px;\n",
              "        padding: 0 0 0 0;\n",
              "        width: 32px;\n",
              "      }\n",
              "\n",
              "      .colab-df-generate:hover {\n",
              "        background-color: #E2EBFA;\n",
              "        box-shadow: 0px 1px 2px rgba(60, 64, 67, 0.3), 0px 1px 3px 1px rgba(60, 64, 67, 0.15);\n",
              "        fill: #174EA6;\n",
              "      }\n",
              "\n",
              "      [theme=dark] .colab-df-generate {\n",
              "        background-color: #3B4455;\n",
              "        fill: #D2E3FC;\n",
              "      }\n",
              "\n",
              "      [theme=dark] .colab-df-generate:hover {\n",
              "        background-color: #434B5C;\n",
              "        box-shadow: 0px 1px 3px 1px rgba(0, 0, 0, 0.15);\n",
              "        filter: drop-shadow(0px 1px 2px rgba(0, 0, 0, 0.3));\n",
              "        fill: #FFFFFF;\n",
              "      }\n",
              "    </style>\n",
              "    <button class=\"colab-df-generate\" onclick=\"generateWithVariable('df2')\"\n",
              "            title=\"Generate code using this dataframe.\"\n",
              "            style=\"display:none;\">\n",
              "\n",
              "  <svg xmlns=\"http://www.w3.org/2000/svg\" height=\"24px\"viewBox=\"0 0 24 24\"\n",
              "       width=\"24px\">\n",
              "    <path d=\"M7,19H8.4L18.45,9,17,7.55,7,17.6ZM5,21V16.75L18.45,3.32a2,2,0,0,1,2.83,0l1.4,1.43a1.91,1.91,0,0,1,.58,1.4,1.91,1.91,0,0,1-.58,1.4L9.25,21ZM18.45,9,17,7.55Zm-12,3A5.31,5.31,0,0,0,4.9,8.1,5.31,5.31,0,0,0,1,6.5,5.31,5.31,0,0,0,4.9,4.9,5.31,5.31,0,0,0,6.5,1,5.31,5.31,0,0,0,8.1,4.9,5.31,5.31,0,0,0,12,6.5,5.46,5.46,0,0,0,6.5,12Z\"/>\n",
              "  </svg>\n",
              "    </button>\n",
              "    <script>\n",
              "      (() => {\n",
              "      const buttonEl =\n",
              "        document.querySelector('#id_e0f9f7e8-b73f-4419-81cc-215a80878bad button.colab-df-generate');\n",
              "      buttonEl.style.display =\n",
              "        google.colab.kernel.accessAllowed ? 'block' : 'none';\n",
              "\n",
              "      buttonEl.onclick = () => {\n",
              "        google.colab.notebook.generateWithVariable('df2');\n",
              "      }\n",
              "      })();\n",
              "    </script>\n",
              "  </div>\n",
              "\n",
              "    </div>\n",
              "  </div>\n"
            ],
            "application/vnd.google.colaboratory.intrinsic+json": {
              "type": "dataframe",
              "variable_name": "df2"
            }
          },
          "metadata": {},
          "execution_count": 145
        }
      ]
    },
    {
      "cell_type": "code",
      "source": [
        "df2.to_csv(\"df2_limpio.csv\", index=False)\n"
      ],
      "metadata": {
        "id": "CLOd2C1jGkDN"
      },
      "execution_count": 149,
      "outputs": []
    },
    {
      "cell_type": "code",
      "source": [
        "!ls -l df2_limpio.csv\n"
      ],
      "metadata": {
        "colab": {
          "base_uri": "https://localhost:8080/"
        },
        "id": "7szYl3mAKb_1",
        "outputId": "a7db2d4a-3f0a-47ab-dd29-e05ad76f949f"
      },
      "execution_count": 151,
      "outputs": [
        {
          "output_type": "stream",
          "name": "stdout",
          "text": [
            "-rw-r--r-- 1 root root 952760 Oct 21 05:07 df2_limpio.csv\n"
          ]
        }
      ]
    },
    {
      "cell_type": "code",
      "source": [
        "from google.colab import files"
      ],
      "metadata": {
        "id": "G3aUiPsLKxQF"
      },
      "execution_count": 152,
      "outputs": []
    },
    {
      "cell_type": "code",
      "source": [
        "files.download(\"df2_limpio.csv\")\n"
      ],
      "metadata": {
        "colab": {
          "base_uri": "https://localhost:8080/",
          "height": 17
        },
        "id": "hJE2BKJjK1KF",
        "outputId": "779f6a57-bd5c-4553-da31-e3b64cb184ca"
      },
      "execution_count": 153,
      "outputs": [
        {
          "output_type": "display_data",
          "data": {
            "text/plain": [
              "<IPython.core.display.Javascript object>"
            ],
            "application/javascript": [
              "\n",
              "    async function download(id, filename, size) {\n",
              "      if (!google.colab.kernel.accessAllowed) {\n",
              "        return;\n",
              "      }\n",
              "      const div = document.createElement('div');\n",
              "      const label = document.createElement('label');\n",
              "      label.textContent = `Downloading \"${filename}\": `;\n",
              "      div.appendChild(label);\n",
              "      const progress = document.createElement('progress');\n",
              "      progress.max = size;\n",
              "      div.appendChild(progress);\n",
              "      document.body.appendChild(div);\n",
              "\n",
              "      const buffers = [];\n",
              "      let downloaded = 0;\n",
              "\n",
              "      const channel = await google.colab.kernel.comms.open(id);\n",
              "      // Send a message to notify the kernel that we're ready.\n",
              "      channel.send({})\n",
              "\n",
              "      for await (const message of channel.messages) {\n",
              "        // Send a message to notify the kernel that we're ready.\n",
              "        channel.send({})\n",
              "        if (message.buffers) {\n",
              "          for (const buffer of message.buffers) {\n",
              "            buffers.push(buffer);\n",
              "            downloaded += buffer.byteLength;\n",
              "            progress.value = downloaded;\n",
              "          }\n",
              "        }\n",
              "      }\n",
              "      const blob = new Blob(buffers, {type: 'application/binary'});\n",
              "      const a = document.createElement('a');\n",
              "      a.href = window.URL.createObjectURL(blob);\n",
              "      a.download = filename;\n",
              "      div.appendChild(a);\n",
              "      a.click();\n",
              "      div.remove();\n",
              "    }\n",
              "  "
            ]
          },
          "metadata": {}
        },
        {
          "output_type": "display_data",
          "data": {
            "text/plain": [
              "<IPython.core.display.Javascript object>"
            ],
            "application/javascript": [
              "download(\"download_d9ab8553-4456-4057-9933-5dc21ec17d5d\", \"df2_limpio.csv\", 952760)"
            ]
          },
          "metadata": {}
        }
      ]
    }
  ]
}